{
 "cells": [
  {
   "cell_type": "code",
   "execution_count": 1,
   "metadata": {},
   "outputs": [],
   "source": [
    "import pandas as pd\n",
    "import requests\n",
    "from bs4 import BeautifulSoup\n",
    "import os\n",
    "import matplotlib.pyplot as plt\n",
    "import seaborn as sns\n",
    "\n",
    "# librerias a utilizar"
   ]
  },
  {
   "cell_type": "code",
   "execution_count": 2,
   "metadata": {},
   "outputs": [],
   "source": [
    "urls_df = pd.read_excel('data latinoamerica.xlsx', index_col=0)\n",
    "\n",
    "# caragamos el archivo con las url de donde vamos a obtenr los datos en un df"
   ]
  },
  {
   "cell_type": "code",
   "execution_count": 3,
   "metadata": {},
   "outputs": [
    {
     "data": {
      "text/html": [
       "<div>\n",
       "<style scoped>\n",
       "    .dataframe tbody tr th:only-of-type {\n",
       "        vertical-align: middle;\n",
       "    }\n",
       "\n",
       "    .dataframe tbody tr th {\n",
       "        vertical-align: top;\n",
       "    }\n",
       "\n",
       "    .dataframe thead th {\n",
       "        text-align: right;\n",
       "    }\n",
       "</style>\n",
       "<table border=\"1\" class=\"dataframe\">\n",
       "  <thead>\n",
       "    <tr style=\"text-align: right;\">\n",
       "      <th></th>\n",
       "      <th>BOLIVIA</th>\n",
       "      <th>BRASIL</th>\n",
       "      <th>CHILE</th>\n",
       "      <th>ECUADOR</th>\n",
       "      <th>PARAGUAY</th>\n",
       "      <th>URUGUAY</th>\n",
       "      <th>COSTA RICA</th>\n",
       "      <th>GUATEMALA</th>\n",
       "      <th>HONDURAS</th>\n",
       "      <th>NICARAGUA</th>\n",
       "      <th>PANAMA</th>\n",
       "      <th>MEXICO</th>\n",
       "    </tr>\n",
       "    <tr>\n",
       "      <th>URL/PAIS</th>\n",
       "      <th></th>\n",
       "      <th></th>\n",
       "      <th></th>\n",
       "      <th></th>\n",
       "      <th></th>\n",
       "      <th></th>\n",
       "      <th></th>\n",
       "      <th></th>\n",
       "      <th></th>\n",
       "      <th></th>\n",
       "      <th></th>\n",
       "      <th></th>\n",
       "    </tr>\n",
       "  </thead>\n",
       "  <tbody>\n",
       "    <tr>\n",
       "      <th>PBI</th>\n",
       "      <td>https://datosmacro.expansion.com/pib/bolivia</td>\n",
       "      <td>https://datosmacro.expansion.com/pib/brasil</td>\n",
       "      <td>https://datosmacro.expansion.com/pib/chile</td>\n",
       "      <td>https://datosmacro.expansion.com/pib/ecuador</td>\n",
       "      <td>https://datosmacro.expansion.com/pib/paraguay</td>\n",
       "      <td>https://datosmacro.expansion.com/pib/uruguay</td>\n",
       "      <td>https://datosmacro.expansion.com/pib/costa-rica</td>\n",
       "      <td>https://datosmacro.expansion.com/pib/guatemala</td>\n",
       "      <td>https://datosmacro.expansion.com/pib/honduras</td>\n",
       "      <td>https://datosmacro.expansion.com/pib/nicaragua</td>\n",
       "      <td>https://datosmacro.expansion.com/pib/panama</td>\n",
       "      <td>https://datosmacro.expansion.com/pib/mexico</td>\n",
       "    </tr>\n",
       "    <tr>\n",
       "      <th>CORRUPCION</th>\n",
       "      <td>https://datosmacro.expansion.com/estado/indice...</td>\n",
       "      <td>https://datosmacro.expansion.com/estado/indice...</td>\n",
       "      <td>https://datosmacro.expansion.com/estado/indice...</td>\n",
       "      <td>https://datosmacro.expansion.com/estado/indice...</td>\n",
       "      <td>https://datosmacro.expansion.com/estado/indice...</td>\n",
       "      <td>https://datosmacro.expansion.com/estado/indice...</td>\n",
       "      <td>https://datosmacro.expansion.com/estado/indice...</td>\n",
       "      <td>https://datosmacro.expansion.com/estado/indice...</td>\n",
       "      <td>https://datosmacro.expansion.com/estado/indice...</td>\n",
       "      <td>https://datosmacro.expansion.com/estado/indice...</td>\n",
       "      <td>https://datosmacro.expansion.com/estado/indice...</td>\n",
       "      <td>https://datosmacro.expansion.com/estado/indice...</td>\n",
       "    </tr>\n",
       "    <tr>\n",
       "      <th>POBREZA</th>\n",
       "      <td>https://datosmacro.expansion.com/demografia/ri...</td>\n",
       "      <td>https://datosmacro.expansion.com/demografia/ri...</td>\n",
       "      <td>https://datosmacro.expansion.com/demografia/ri...</td>\n",
       "      <td>https://datosmacro.expansion.com/demografia/ri...</td>\n",
       "      <td>https://datosmacro.expansion.com/demografia/ri...</td>\n",
       "      <td>https://datosmacro.expansion.com/demografia/ri...</td>\n",
       "      <td>https://datosmacro.expansion.com/demografia/ri...</td>\n",
       "      <td>https://datosmacro.expansion.com/demografia/ri...</td>\n",
       "      <td>https://datosmacro.expansion.com/demografia/ri...</td>\n",
       "      <td>https://datosmacro.expansion.com/demografia/ri...</td>\n",
       "      <td>https://datosmacro.expansion.com/demografia/ri...</td>\n",
       "      <td>https://datosmacro.expansion.com/demografia/ri...</td>\n",
       "    </tr>\n",
       "    <tr>\n",
       "      <th>ESPERANZA DE VIDA</th>\n",
       "      <td>https://datosmacro.expansion.com/demografia/es...</td>\n",
       "      <td>https://datosmacro.expansion.com/demografia/es...</td>\n",
       "      <td>https://datosmacro.expansion.com/demografia/es...</td>\n",
       "      <td>https://datosmacro.expansion.com/demografia/es...</td>\n",
       "      <td>https://datosmacro.expansion.com/demografia/es...</td>\n",
       "      <td>https://datosmacro.expansion.com/demografia/es...</td>\n",
       "      <td>https://datosmacro.expansion.com/demografia/es...</td>\n",
       "      <td>https://datosmacro.expansion.com/demografia/es...</td>\n",
       "      <td>https://datosmacro.expansion.com/demografia/es...</td>\n",
       "      <td>https://datosmacro.expansion.com/demografia/es...</td>\n",
       "      <td>https://datosmacro.expansion.com/demografia/es...</td>\n",
       "      <td>https://datosmacro.expansion.com/demografia/es...</td>\n",
       "    </tr>\n",
       "    <tr>\n",
       "      <th>POBLACION</th>\n",
       "      <td>https://datosmacro.expansion.com/demografia/po...</td>\n",
       "      <td>https://datosmacro.expansion.com/demografia/po...</td>\n",
       "      <td>https://datosmacro.expansion.com/demografia/ta...</td>\n",
       "      <td>https://datosmacro.expansion.com/demografia/po...</td>\n",
       "      <td>https://datosmacro.expansion.com/demografia/po...</td>\n",
       "      <td>https://datosmacro.expansion.com/demografia/po...</td>\n",
       "      <td>https://datosmacro.expansion.com/demografia/po...</td>\n",
       "      <td>https://datosmacro.expansion.com/demografia/po...</td>\n",
       "      <td>https://datosmacro.expansion.com/demografia/po...</td>\n",
       "      <td>https://datosmacro.expansion.com/demografia/po...</td>\n",
       "      <td>https://datosmacro.expansion.com/demografia/po...</td>\n",
       "      <td>https://datosmacro.expansion.com/demografia/po...</td>\n",
       "    </tr>\n",
       "    <tr>\n",
       "      <th>NATALIDAD</th>\n",
       "      <td>https://datosmacro.expansion.com/demografia/na...</td>\n",
       "      <td>https://datosmacro.expansion.com/demografia/na...</td>\n",
       "      <td>https://datosmacro.expansion.com/demografia/na...</td>\n",
       "      <td>https://datosmacro.expansion.com/demografia/na...</td>\n",
       "      <td>https://datosmacro.expansion.com/demografia/na...</td>\n",
       "      <td>https://datosmacro.expansion.com/demografia/na...</td>\n",
       "      <td>https://datosmacro.expansion.com/demografia/na...</td>\n",
       "      <td>https://datosmacro.expansion.com/demografia/na...</td>\n",
       "      <td>https://datosmacro.expansion.com/demografia/na...</td>\n",
       "      <td>https://datosmacro.expansion.com/demografia/na...</td>\n",
       "      <td>https://datosmacro.expansion.com/demografia/na...</td>\n",
       "      <td>https://datosmacro.expansion.com/demografia/na...</td>\n",
       "    </tr>\n",
       "    <tr>\n",
       "      <th>MORTALIDAD</th>\n",
       "      <td>https://datosmacro.expansion.com/demografia/mo...</td>\n",
       "      <td>https://datosmacro.expansion.com/demografia/mo...</td>\n",
       "      <td>https://datosmacro.expansion.com/demografia/mo...</td>\n",
       "      <td>https://datosmacro.expansion.com/demografia/mo...</td>\n",
       "      <td>https://datosmacro.expansion.com/demografia/mo...</td>\n",
       "      <td>https://datosmacro.expansion.com/demografia/mo...</td>\n",
       "      <td>https://datosmacro.expansion.com/demografia/mo...</td>\n",
       "      <td>https://datosmacro.expansion.com/demografia/mo...</td>\n",
       "      <td>https://datosmacro.expansion.com/demografia/mo...</td>\n",
       "      <td>https://datosmacro.expansion.com/demografia/mo...</td>\n",
       "      <td>https://datosmacro.expansion.com/demografia/mo...</td>\n",
       "      <td>https://datosmacro.expansion.com/demografia/mo...</td>\n",
       "    </tr>\n",
       "    <tr>\n",
       "      <th>TASA ALFABETIZACION</th>\n",
       "      <td>https://datosmacro.expansion.com/demografia/ta...</td>\n",
       "      <td>https://datosmacro.expansion.com/demografia/ta...</td>\n",
       "      <td>https://datosmacro.expansion.com/demografia/ta...</td>\n",
       "      <td>https://datosmacro.expansion.com/demografia/ta...</td>\n",
       "      <td>https://datosmacro.expansion.com/demografia/ta...</td>\n",
       "      <td>https://datosmacro.expansion.com/demografia/ta...</td>\n",
       "      <td>https://datosmacro.expansion.com/demografia/ta...</td>\n",
       "      <td>https://datosmacro.expansion.com/demografia/ta...</td>\n",
       "      <td>https://datosmacro.expansion.com/demografia/ta...</td>\n",
       "      <td>https://datosmacro.expansion.com/demografia/ta...</td>\n",
       "      <td>https://datosmacro.expansion.com/demografia/ta...</td>\n",
       "      <td>https://datosmacro.expansion.com/demografia/ta...</td>\n",
       "    </tr>\n",
       "    <tr>\n",
       "      <th>INMIGRANTES X PAISES</th>\n",
       "      <td>https://datosmacro.expansion.com/demografia/mi...</td>\n",
       "      <td>https://datosmacro.expansion.com/demografia/mi...</td>\n",
       "      <td>https://datosmacro.expansion.com/demografia/mi...</td>\n",
       "      <td>https://datosmacro.expansion.com/demografia/mi...</td>\n",
       "      <td>https://datosmacro.expansion.com/demografia/mi...</td>\n",
       "      <td>https://datosmacro.expansion.com/demografia/mi...</td>\n",
       "      <td>https://datosmacro.expansion.com/demografia/mi...</td>\n",
       "      <td>https://datosmacro.expansion.com/demografia/mi...</td>\n",
       "      <td>https://datosmacro.expansion.com/demografia/mi...</td>\n",
       "      <td>https://datosmacro.expansion.com/demografia/mi...</td>\n",
       "      <td>https://datosmacro.expansion.com/demografia/mi...</td>\n",
       "      <td>https://datosmacro.expansion.com/demografia/mi...</td>\n",
       "    </tr>\n",
       "    <tr>\n",
       "      <th>EMIGRANTES X PAISES</th>\n",
       "      <td>https://datosmacro.expansion.com/demografia/mi...</td>\n",
       "      <td>https://datosmacro.expansion.com/demografia/mi...</td>\n",
       "      <td>https://datosmacro.expansion.com/demografia/mi...</td>\n",
       "      <td>https://datosmacro.expansion.com/demografia/mi...</td>\n",
       "      <td>https://datosmacro.expansion.com/demografia/mi...</td>\n",
       "      <td>https://datosmacro.expansion.com/demografia/mi...</td>\n",
       "      <td>https://datosmacro.expansion.com/demografia/mi...</td>\n",
       "      <td>https://datosmacro.expansion.com/demografia/mi...</td>\n",
       "      <td>https://datosmacro.expansion.com/demografia/mi...</td>\n",
       "      <td>https://datosmacro.expansion.com/demografia/mi...</td>\n",
       "      <td>https://datosmacro.expansion.com/demografia/mi...</td>\n",
       "      <td>https://datosmacro.expansion.com/demografia/mi...</td>\n",
       "    </tr>\n",
       "    <tr>\n",
       "      <th>SALARIO MIN DOLARES</th>\n",
       "      <td>https://datosmacro.expansion.com/smi/bolivia</td>\n",
       "      <td>https://datosmacro.expansion.com/smi/brasil</td>\n",
       "      <td>https://datosmacro.expansion.com/smi/chile</td>\n",
       "      <td>https://datosmacro.expansion.com/smi/ecuador</td>\n",
       "      <td>https://datosmacro.expansion.com/smi/paraguay</td>\n",
       "      <td>https://datosmacro.expansion.com/smi/uruguay</td>\n",
       "      <td>https://datosmacro.expansion.com/smi/costa-rica</td>\n",
       "      <td>https://datosmacro.expansion.com/smi/guatemala</td>\n",
       "      <td>https://datosmacro.expansion.com/smi/honduras</td>\n",
       "      <td>https://datosmacro.expansion.com/smi/nicaragua</td>\n",
       "      <td>https://datosmacro.expansion.com/smi/panama</td>\n",
       "      <td>https://datosmacro.expansion.com/smi/mexico</td>\n",
       "    </tr>\n",
       "    <tr>\n",
       "      <th>NaN</th>\n",
       "      <td>NaN</td>\n",
       "      <td>NaN</td>\n",
       "      <td>NaN</td>\n",
       "      <td>NaN</td>\n",
       "      <td>NaN</td>\n",
       "      <td>NaN</td>\n",
       "      <td>NaN</td>\n",
       "      <td>NaN</td>\n",
       "      <td>NaN</td>\n",
       "      <td>NaN</td>\n",
       "      <td>NaN</td>\n",
       "      <td>NaN</td>\n",
       "    </tr>\n",
       "    <tr>\n",
       "      <th>IDH</th>\n",
       "      <td>https://datosmacro.expansion.com/idh/costa-rica</td>\n",
       "      <td>NaN</td>\n",
       "      <td>NaN</td>\n",
       "      <td>NaN</td>\n",
       "      <td>NaN</td>\n",
       "      <td>NaN</td>\n",
       "      <td>NaN</td>\n",
       "      <td>NaN</td>\n",
       "      <td>NaN</td>\n",
       "      <td>NaN</td>\n",
       "      <td>NaN</td>\n",
       "      <td>NaN</td>\n",
       "    </tr>\n",
       "  </tbody>\n",
       "</table>\n",
       "</div>"
      ],
      "text/plain": [
       "                                                                BOLIVIA  \\\n",
       "URL/PAIS                                                                  \n",
       "PBI                        https://datosmacro.expansion.com/pib/bolivia   \n",
       "CORRUPCION            https://datosmacro.expansion.com/estado/indice...   \n",
       "POBREZA               https://datosmacro.expansion.com/demografia/ri...   \n",
       "ESPERANZA DE VIDA     https://datosmacro.expansion.com/demografia/es...   \n",
       "POBLACION             https://datosmacro.expansion.com/demografia/po...   \n",
       "NATALIDAD             https://datosmacro.expansion.com/demografia/na...   \n",
       "MORTALIDAD            https://datosmacro.expansion.com/demografia/mo...   \n",
       "TASA ALFABETIZACION   https://datosmacro.expansion.com/demografia/ta...   \n",
       "INMIGRANTES X PAISES  https://datosmacro.expansion.com/demografia/mi...   \n",
       "EMIGRANTES X PAISES   https://datosmacro.expansion.com/demografia/mi...   \n",
       "SALARIO MIN DOLARES        https://datosmacro.expansion.com/smi/bolivia   \n",
       "NaN                                                                 NaN   \n",
       "IDH                     https://datosmacro.expansion.com/idh/costa-rica   \n",
       "\n",
       "                                                                 BRASIL  \\\n",
       "URL/PAIS                                                                  \n",
       "PBI                         https://datosmacro.expansion.com/pib/brasil   \n",
       "CORRUPCION            https://datosmacro.expansion.com/estado/indice...   \n",
       "POBREZA               https://datosmacro.expansion.com/demografia/ri...   \n",
       "ESPERANZA DE VIDA     https://datosmacro.expansion.com/demografia/es...   \n",
       "POBLACION             https://datosmacro.expansion.com/demografia/po...   \n",
       "NATALIDAD             https://datosmacro.expansion.com/demografia/na...   \n",
       "MORTALIDAD            https://datosmacro.expansion.com/demografia/mo...   \n",
       "TASA ALFABETIZACION   https://datosmacro.expansion.com/demografia/ta...   \n",
       "INMIGRANTES X PAISES  https://datosmacro.expansion.com/demografia/mi...   \n",
       "EMIGRANTES X PAISES   https://datosmacro.expansion.com/demografia/mi...   \n",
       "SALARIO MIN DOLARES         https://datosmacro.expansion.com/smi/brasil   \n",
       "NaN                                                                 NaN   \n",
       "IDH                                                                 NaN   \n",
       "\n",
       "                                                                  CHILE  \\\n",
       "URL/PAIS                                                                  \n",
       "PBI                          https://datosmacro.expansion.com/pib/chile   \n",
       "CORRUPCION            https://datosmacro.expansion.com/estado/indice...   \n",
       "POBREZA               https://datosmacro.expansion.com/demografia/ri...   \n",
       "ESPERANZA DE VIDA     https://datosmacro.expansion.com/demografia/es...   \n",
       "POBLACION             https://datosmacro.expansion.com/demografia/ta...   \n",
       "NATALIDAD             https://datosmacro.expansion.com/demografia/na...   \n",
       "MORTALIDAD            https://datosmacro.expansion.com/demografia/mo...   \n",
       "TASA ALFABETIZACION   https://datosmacro.expansion.com/demografia/ta...   \n",
       "INMIGRANTES X PAISES  https://datosmacro.expansion.com/demografia/mi...   \n",
       "EMIGRANTES X PAISES   https://datosmacro.expansion.com/demografia/mi...   \n",
       "SALARIO MIN DOLARES          https://datosmacro.expansion.com/smi/chile   \n",
       "NaN                                                                 NaN   \n",
       "IDH                                                                 NaN   \n",
       "\n",
       "                                                                ECUADOR  \\\n",
       "URL/PAIS                                                                  \n",
       "PBI                        https://datosmacro.expansion.com/pib/ecuador   \n",
       "CORRUPCION            https://datosmacro.expansion.com/estado/indice...   \n",
       "POBREZA               https://datosmacro.expansion.com/demografia/ri...   \n",
       "ESPERANZA DE VIDA     https://datosmacro.expansion.com/demografia/es...   \n",
       "POBLACION             https://datosmacro.expansion.com/demografia/po...   \n",
       "NATALIDAD             https://datosmacro.expansion.com/demografia/na...   \n",
       "MORTALIDAD            https://datosmacro.expansion.com/demografia/mo...   \n",
       "TASA ALFABETIZACION   https://datosmacro.expansion.com/demografia/ta...   \n",
       "INMIGRANTES X PAISES  https://datosmacro.expansion.com/demografia/mi...   \n",
       "EMIGRANTES X PAISES   https://datosmacro.expansion.com/demografia/mi...   \n",
       "SALARIO MIN DOLARES        https://datosmacro.expansion.com/smi/ecuador   \n",
       "NaN                                                                 NaN   \n",
       "IDH                                                                 NaN   \n",
       "\n",
       "                                                               PARAGUAY  \\\n",
       "URL/PAIS                                                                  \n",
       "PBI                       https://datosmacro.expansion.com/pib/paraguay   \n",
       "CORRUPCION            https://datosmacro.expansion.com/estado/indice...   \n",
       "POBREZA               https://datosmacro.expansion.com/demografia/ri...   \n",
       "ESPERANZA DE VIDA     https://datosmacro.expansion.com/demografia/es...   \n",
       "POBLACION             https://datosmacro.expansion.com/demografia/po...   \n",
       "NATALIDAD             https://datosmacro.expansion.com/demografia/na...   \n",
       "MORTALIDAD            https://datosmacro.expansion.com/demografia/mo...   \n",
       "TASA ALFABETIZACION   https://datosmacro.expansion.com/demografia/ta...   \n",
       "INMIGRANTES X PAISES  https://datosmacro.expansion.com/demografia/mi...   \n",
       "EMIGRANTES X PAISES   https://datosmacro.expansion.com/demografia/mi...   \n",
       "SALARIO MIN DOLARES       https://datosmacro.expansion.com/smi/paraguay   \n",
       "NaN                                                                 NaN   \n",
       "IDH                                                                 NaN   \n",
       "\n",
       "                                                                URUGUAY  \\\n",
       "URL/PAIS                                                                  \n",
       "PBI                        https://datosmacro.expansion.com/pib/uruguay   \n",
       "CORRUPCION            https://datosmacro.expansion.com/estado/indice...   \n",
       "POBREZA               https://datosmacro.expansion.com/demografia/ri...   \n",
       "ESPERANZA DE VIDA     https://datosmacro.expansion.com/demografia/es...   \n",
       "POBLACION             https://datosmacro.expansion.com/demografia/po...   \n",
       "NATALIDAD             https://datosmacro.expansion.com/demografia/na...   \n",
       "MORTALIDAD            https://datosmacro.expansion.com/demografia/mo...   \n",
       "TASA ALFABETIZACION   https://datosmacro.expansion.com/demografia/ta...   \n",
       "INMIGRANTES X PAISES  https://datosmacro.expansion.com/demografia/mi...   \n",
       "EMIGRANTES X PAISES   https://datosmacro.expansion.com/demografia/mi...   \n",
       "SALARIO MIN DOLARES        https://datosmacro.expansion.com/smi/uruguay   \n",
       "NaN                                                                 NaN   \n",
       "IDH                                                                 NaN   \n",
       "\n",
       "                                                             COSTA RICA  \\\n",
       "URL/PAIS                                                                  \n",
       "PBI                     https://datosmacro.expansion.com/pib/costa-rica   \n",
       "CORRUPCION            https://datosmacro.expansion.com/estado/indice...   \n",
       "POBREZA               https://datosmacro.expansion.com/demografia/ri...   \n",
       "ESPERANZA DE VIDA     https://datosmacro.expansion.com/demografia/es...   \n",
       "POBLACION             https://datosmacro.expansion.com/demografia/po...   \n",
       "NATALIDAD             https://datosmacro.expansion.com/demografia/na...   \n",
       "MORTALIDAD            https://datosmacro.expansion.com/demografia/mo...   \n",
       "TASA ALFABETIZACION   https://datosmacro.expansion.com/demografia/ta...   \n",
       "INMIGRANTES X PAISES  https://datosmacro.expansion.com/demografia/mi...   \n",
       "EMIGRANTES X PAISES   https://datosmacro.expansion.com/demografia/mi...   \n",
       "SALARIO MIN DOLARES     https://datosmacro.expansion.com/smi/costa-rica   \n",
       "NaN                                                                 NaN   \n",
       "IDH                                                                 NaN   \n",
       "\n",
       "                                                              GUATEMALA  \\\n",
       "URL/PAIS                                                                  \n",
       "PBI                      https://datosmacro.expansion.com/pib/guatemala   \n",
       "CORRUPCION            https://datosmacro.expansion.com/estado/indice...   \n",
       "POBREZA               https://datosmacro.expansion.com/demografia/ri...   \n",
       "ESPERANZA DE VIDA     https://datosmacro.expansion.com/demografia/es...   \n",
       "POBLACION             https://datosmacro.expansion.com/demografia/po...   \n",
       "NATALIDAD             https://datosmacro.expansion.com/demografia/na...   \n",
       "MORTALIDAD            https://datosmacro.expansion.com/demografia/mo...   \n",
       "TASA ALFABETIZACION   https://datosmacro.expansion.com/demografia/ta...   \n",
       "INMIGRANTES X PAISES  https://datosmacro.expansion.com/demografia/mi...   \n",
       "EMIGRANTES X PAISES   https://datosmacro.expansion.com/demografia/mi...   \n",
       "SALARIO MIN DOLARES      https://datosmacro.expansion.com/smi/guatemala   \n",
       "NaN                                                                 NaN   \n",
       "IDH                                                                 NaN   \n",
       "\n",
       "                                                               HONDURAS  \\\n",
       "URL/PAIS                                                                  \n",
       "PBI                       https://datosmacro.expansion.com/pib/honduras   \n",
       "CORRUPCION            https://datosmacro.expansion.com/estado/indice...   \n",
       "POBREZA               https://datosmacro.expansion.com/demografia/ri...   \n",
       "ESPERANZA DE VIDA     https://datosmacro.expansion.com/demografia/es...   \n",
       "POBLACION             https://datosmacro.expansion.com/demografia/po...   \n",
       "NATALIDAD             https://datosmacro.expansion.com/demografia/na...   \n",
       "MORTALIDAD            https://datosmacro.expansion.com/demografia/mo...   \n",
       "TASA ALFABETIZACION   https://datosmacro.expansion.com/demografia/ta...   \n",
       "INMIGRANTES X PAISES  https://datosmacro.expansion.com/demografia/mi...   \n",
       "EMIGRANTES X PAISES   https://datosmacro.expansion.com/demografia/mi...   \n",
       "SALARIO MIN DOLARES       https://datosmacro.expansion.com/smi/honduras   \n",
       "NaN                                                                 NaN   \n",
       "IDH                                                                 NaN   \n",
       "\n",
       "                                                              NICARAGUA  \\\n",
       "URL/PAIS                                                                  \n",
       "PBI                      https://datosmacro.expansion.com/pib/nicaragua   \n",
       "CORRUPCION            https://datosmacro.expansion.com/estado/indice...   \n",
       "POBREZA               https://datosmacro.expansion.com/demografia/ri...   \n",
       "ESPERANZA DE VIDA     https://datosmacro.expansion.com/demografia/es...   \n",
       "POBLACION             https://datosmacro.expansion.com/demografia/po...   \n",
       "NATALIDAD             https://datosmacro.expansion.com/demografia/na...   \n",
       "MORTALIDAD            https://datosmacro.expansion.com/demografia/mo...   \n",
       "TASA ALFABETIZACION   https://datosmacro.expansion.com/demografia/ta...   \n",
       "INMIGRANTES X PAISES  https://datosmacro.expansion.com/demografia/mi...   \n",
       "EMIGRANTES X PAISES   https://datosmacro.expansion.com/demografia/mi...   \n",
       "SALARIO MIN DOLARES      https://datosmacro.expansion.com/smi/nicaragua   \n",
       "NaN                                                                 NaN   \n",
       "IDH                                                                 NaN   \n",
       "\n",
       "                                                                 PANAMA  \\\n",
       "URL/PAIS                                                                  \n",
       "PBI                         https://datosmacro.expansion.com/pib/panama   \n",
       "CORRUPCION            https://datosmacro.expansion.com/estado/indice...   \n",
       "POBREZA               https://datosmacro.expansion.com/demografia/ri...   \n",
       "ESPERANZA DE VIDA     https://datosmacro.expansion.com/demografia/es...   \n",
       "POBLACION             https://datosmacro.expansion.com/demografia/po...   \n",
       "NATALIDAD             https://datosmacro.expansion.com/demografia/na...   \n",
       "MORTALIDAD            https://datosmacro.expansion.com/demografia/mo...   \n",
       "TASA ALFABETIZACION   https://datosmacro.expansion.com/demografia/ta...   \n",
       "INMIGRANTES X PAISES  https://datosmacro.expansion.com/demografia/mi...   \n",
       "EMIGRANTES X PAISES   https://datosmacro.expansion.com/demografia/mi...   \n",
       "SALARIO MIN DOLARES         https://datosmacro.expansion.com/smi/panama   \n",
       "NaN                                                                 NaN   \n",
       "IDH                                                                 NaN   \n",
       "\n",
       "                                                                 MEXICO  \n",
       "URL/PAIS                                                                 \n",
       "PBI                         https://datosmacro.expansion.com/pib/mexico  \n",
       "CORRUPCION            https://datosmacro.expansion.com/estado/indice...  \n",
       "POBREZA               https://datosmacro.expansion.com/demografia/ri...  \n",
       "ESPERANZA DE VIDA     https://datosmacro.expansion.com/demografia/es...  \n",
       "POBLACION             https://datosmacro.expansion.com/demografia/po...  \n",
       "NATALIDAD             https://datosmacro.expansion.com/demografia/na...  \n",
       "MORTALIDAD            https://datosmacro.expansion.com/demografia/mo...  \n",
       "TASA ALFABETIZACION   https://datosmacro.expansion.com/demografia/ta...  \n",
       "INMIGRANTES X PAISES  https://datosmacro.expansion.com/demografia/mi...  \n",
       "EMIGRANTES X PAISES   https://datosmacro.expansion.com/demografia/mi...  \n",
       "SALARIO MIN DOLARES         https://datosmacro.expansion.com/smi/mexico  \n",
       "NaN                                                                 NaN  \n",
       "IDH                                                                 NaN  "
      ]
     },
     "execution_count": 3,
     "metadata": {},
     "output_type": "execute_result"
    }
   ],
   "source": [
    "urls_df"
   ]
  },
  {
   "cell_type": "markdown",
   "metadata": {},
   "source": [
    "Funcion para extraer datos desde la web"
   ]
  },
  {
   "cell_type": "code",
   "execution_count": 7,
   "metadata": {},
   "outputs": [],
   "source": [
    "\n",
    "def extract_tables_from_url(url):\n",
    "    try:\n",
    "        response = requests.get(url)\n",
    "        response.raise_for_status()  # Verifica si la solicitud HTTP fue exitosa\n",
    "        soup = BeautifulSoup(response.text, 'html.parser')\n",
    "        tables = soup.find_all('table')\n",
    "        return pd.read_html(str(tables))\n",
    "    except requests.exceptions.RequestException as e:\n",
    "        print(f\"Error in making the request: {e}\")\n",
    "        return None\n",
    "    except Exception as e:\n",
    "        print(f\"An unexpected error occurred: {e}\")\n",
    "        return None\n",
    "\n",
    "def save_tables_to_excel(tables, column_name):\n",
    "    folder = 'Tablas_paises'\n",
    "    if not os.path.exists(folder):\n",
    "        os.makedirs(folder)\n",
    "\n",
    "    for i, table in enumerate(tables, 1):\n",
    "        filename = f'{column_name}_{i}.xlsx'\n",
    "        filepath = os.path.join(folder, filename)\n",
    "\n",
    "        # Comprueba si el archivo ya existe\n",
    "        counter = 1\n",
    "        while os.path.exists(filepath):\n",
    "            filename = f'{column_name}_{i}_{counter}.xlsx'\n",
    "            filepath = os.path.join(folder, filename)\n",
    "            counter += 1\n",
    "\n",
    "        table.to_excel(filepath, index=False)\n",
    "        print(f'Table saved to: {filepath}')\n"
   ]
  },
  {
   "cell_type": "code",
   "execution_count": 8,
   "metadata": {},
   "outputs": [
    {
     "name": "stderr",
     "output_type": "stream",
     "text": [
      "C:\\Users\\computadora\\AppData\\Local\\Temp\\ipykernel_552\\2699740051.py:5: FutureWarning: Passing literal html to 'read_html' is deprecated and will be removed in a future version. To read from a literal string, wrap it in a 'StringIO' object.\n",
      "  return pd.read_html(str(table))\n"
     ]
    },
    {
     "name": "stdout",
     "output_type": "stream",
     "text": [
      "Table saved to: Tablas_paises\\BOLIVIA_1.xlsx\n"
     ]
    },
    {
     "name": "stderr",
     "output_type": "stream",
     "text": [
      "C:\\Users\\computadora\\AppData\\Local\\Temp\\ipykernel_552\\2699740051.py:5: FutureWarning: Passing literal html to 'read_html' is deprecated and will be removed in a future version. To read from a literal string, wrap it in a 'StringIO' object.\n",
      "  return pd.read_html(str(table))\n"
     ]
    },
    {
     "name": "stdout",
     "output_type": "stream",
     "text": [
      "Table saved to: Tablas_paises\\BOLIVIA_1_1.xlsx\n"
     ]
    },
    {
     "name": "stderr",
     "output_type": "stream",
     "text": [
      "C:\\Users\\computadora\\AppData\\Local\\Temp\\ipykernel_552\\2699740051.py:5: FutureWarning: Passing literal html to 'read_html' is deprecated and will be removed in a future version. To read from a literal string, wrap it in a 'StringIO' object.\n",
      "  return pd.read_html(str(table))\n"
     ]
    },
    {
     "name": "stdout",
     "output_type": "stream",
     "text": [
      "Table saved to: Tablas_paises\\BOLIVIA_1_2.xlsx\n"
     ]
    },
    {
     "name": "stderr",
     "output_type": "stream",
     "text": [
      "C:\\Users\\computadora\\AppData\\Local\\Temp\\ipykernel_552\\2699740051.py:5: FutureWarning: Passing literal html to 'read_html' is deprecated and will be removed in a future version. To read from a literal string, wrap it in a 'StringIO' object.\n",
      "  return pd.read_html(str(table))\n"
     ]
    },
    {
     "name": "stdout",
     "output_type": "stream",
     "text": [
      "Table saved to: Tablas_paises\\BOLIVIA_1_3.xlsx\n"
     ]
    },
    {
     "name": "stderr",
     "output_type": "stream",
     "text": [
      "C:\\Users\\computadora\\AppData\\Local\\Temp\\ipykernel_552\\2699740051.py:5: FutureWarning: Passing literal html to 'read_html' is deprecated and will be removed in a future version. To read from a literal string, wrap it in a 'StringIO' object.\n",
      "  return pd.read_html(str(table))\n"
     ]
    },
    {
     "name": "stdout",
     "output_type": "stream",
     "text": [
      "Table saved to: Tablas_paises\\BOLIVIA_1_4.xlsx\n"
     ]
    },
    {
     "name": "stderr",
     "output_type": "stream",
     "text": [
      "C:\\Users\\computadora\\AppData\\Local\\Temp\\ipykernel_552\\2699740051.py:5: FutureWarning: Passing literal html to 'read_html' is deprecated and will be removed in a future version. To read from a literal string, wrap it in a 'StringIO' object.\n",
      "  return pd.read_html(str(table))\n"
     ]
    },
    {
     "name": "stdout",
     "output_type": "stream",
     "text": [
      "Table saved to: Tablas_paises\\BOLIVIA_1_5.xlsx\n"
     ]
    },
    {
     "name": "stderr",
     "output_type": "stream",
     "text": [
      "C:\\Users\\computadora\\AppData\\Local\\Temp\\ipykernel_552\\2699740051.py:5: FutureWarning: Passing literal html to 'read_html' is deprecated and will be removed in a future version. To read from a literal string, wrap it in a 'StringIO' object.\n",
      "  return pd.read_html(str(table))\n"
     ]
    },
    {
     "name": "stdout",
     "output_type": "stream",
     "text": [
      "Table saved to: Tablas_paises\\BOLIVIA_1_6.xlsx\n"
     ]
    },
    {
     "name": "stderr",
     "output_type": "stream",
     "text": [
      "C:\\Users\\computadora\\AppData\\Local\\Temp\\ipykernel_552\\2699740051.py:5: FutureWarning: Passing literal html to 'read_html' is deprecated and will be removed in a future version. To read from a literal string, wrap it in a 'StringIO' object.\n",
      "  return pd.read_html(str(table))\n"
     ]
    },
    {
     "name": "stdout",
     "output_type": "stream",
     "text": [
      "Table saved to: Tablas_paises\\BOLIVIA_1_7.xlsx\n"
     ]
    },
    {
     "name": "stderr",
     "output_type": "stream",
     "text": [
      "C:\\Users\\computadora\\AppData\\Local\\Temp\\ipykernel_552\\2699740051.py:5: FutureWarning: Passing literal html to 'read_html' is deprecated and will be removed in a future version. To read from a literal string, wrap it in a 'StringIO' object.\n",
      "  return pd.read_html(str(table))\n"
     ]
    },
    {
     "name": "stdout",
     "output_type": "stream",
     "text": [
      "Table saved to: Tablas_paises\\BOLIVIA_1_8.xlsx\n"
     ]
    },
    {
     "name": "stderr",
     "output_type": "stream",
     "text": [
      "C:\\Users\\computadora\\AppData\\Local\\Temp\\ipykernel_552\\2699740051.py:5: FutureWarning: Passing literal html to 'read_html' is deprecated and will be removed in a future version. To read from a literal string, wrap it in a 'StringIO' object.\n",
      "  return pd.read_html(str(table))\n"
     ]
    },
    {
     "name": "stdout",
     "output_type": "stream",
     "text": [
      "Table saved to: Tablas_paises\\BOLIVIA_1_9.xlsx\n"
     ]
    },
    {
     "name": "stderr",
     "output_type": "stream",
     "text": [
      "C:\\Users\\computadora\\AppData\\Local\\Temp\\ipykernel_552\\2699740051.py:5: FutureWarning: Passing literal html to 'read_html' is deprecated and will be removed in a future version. To read from a literal string, wrap it in a 'StringIO' object.\n",
      "  return pd.read_html(str(table))\n"
     ]
    },
    {
     "name": "stdout",
     "output_type": "stream",
     "text": [
      "Table saved to: Tablas_paises\\BOLIVIA_1_10.xlsx\n",
      "Error processing URL nan: Invalid URL 'nan': No scheme supplied. Perhaps you meant https://nan?\n"
     ]
    },
    {
     "name": "stderr",
     "output_type": "stream",
     "text": [
      "C:\\Users\\computadora\\AppData\\Local\\Temp\\ipykernel_552\\2699740051.py:5: FutureWarning: Passing literal html to 'read_html' is deprecated and will be removed in a future version. To read from a literal string, wrap it in a 'StringIO' object.\n",
      "  return pd.read_html(str(table))\n"
     ]
    },
    {
     "name": "stdout",
     "output_type": "stream",
     "text": [
      "Table saved to: Tablas_paises\\BOLIVIA_1_11.xlsx\n"
     ]
    },
    {
     "name": "stderr",
     "output_type": "stream",
     "text": [
      "C:\\Users\\computadora\\AppData\\Local\\Temp\\ipykernel_552\\2699740051.py:5: FutureWarning: Passing literal html to 'read_html' is deprecated and will be removed in a future version. To read from a literal string, wrap it in a 'StringIO' object.\n",
      "  return pd.read_html(str(table))\n"
     ]
    },
    {
     "name": "stdout",
     "output_type": "stream",
     "text": [
      "Table saved to: Tablas_paises\\BRASIL_1.xlsx\n"
     ]
    },
    {
     "name": "stderr",
     "output_type": "stream",
     "text": [
      "C:\\Users\\computadora\\AppData\\Local\\Temp\\ipykernel_552\\2699740051.py:5: FutureWarning: Passing literal html to 'read_html' is deprecated and will be removed in a future version. To read from a literal string, wrap it in a 'StringIO' object.\n",
      "  return pd.read_html(str(table))\n"
     ]
    },
    {
     "name": "stdout",
     "output_type": "stream",
     "text": [
      "Table saved to: Tablas_paises\\BRASIL_1_1.xlsx\n"
     ]
    },
    {
     "name": "stderr",
     "output_type": "stream",
     "text": [
      "C:\\Users\\computadora\\AppData\\Local\\Temp\\ipykernel_552\\2699740051.py:5: FutureWarning: Passing literal html to 'read_html' is deprecated and will be removed in a future version. To read from a literal string, wrap it in a 'StringIO' object.\n",
      "  return pd.read_html(str(table))\n"
     ]
    },
    {
     "name": "stdout",
     "output_type": "stream",
     "text": [
      "Table saved to: Tablas_paises\\BRASIL_1_2.xlsx\n"
     ]
    },
    {
     "name": "stderr",
     "output_type": "stream",
     "text": [
      "C:\\Users\\computadora\\AppData\\Local\\Temp\\ipykernel_552\\2699740051.py:5: FutureWarning: Passing literal html to 'read_html' is deprecated and will be removed in a future version. To read from a literal string, wrap it in a 'StringIO' object.\n",
      "  return pd.read_html(str(table))\n"
     ]
    },
    {
     "name": "stdout",
     "output_type": "stream",
     "text": [
      "Table saved to: Tablas_paises\\BRASIL_1_3.xlsx\n"
     ]
    },
    {
     "name": "stderr",
     "output_type": "stream",
     "text": [
      "C:\\Users\\computadora\\AppData\\Local\\Temp\\ipykernel_552\\2699740051.py:5: FutureWarning: Passing literal html to 'read_html' is deprecated and will be removed in a future version. To read from a literal string, wrap it in a 'StringIO' object.\n",
      "  return pd.read_html(str(table))\n"
     ]
    },
    {
     "name": "stdout",
     "output_type": "stream",
     "text": [
      "Table saved to: Tablas_paises\\BRASIL_1_4.xlsx\n"
     ]
    },
    {
     "name": "stderr",
     "output_type": "stream",
     "text": [
      "C:\\Users\\computadora\\AppData\\Local\\Temp\\ipykernel_552\\2699740051.py:5: FutureWarning: Passing literal html to 'read_html' is deprecated and will be removed in a future version. To read from a literal string, wrap it in a 'StringIO' object.\n",
      "  return pd.read_html(str(table))\n"
     ]
    },
    {
     "name": "stdout",
     "output_type": "stream",
     "text": [
      "Table saved to: Tablas_paises\\BRASIL_1_5.xlsx\n"
     ]
    },
    {
     "name": "stderr",
     "output_type": "stream",
     "text": [
      "C:\\Users\\computadora\\AppData\\Local\\Temp\\ipykernel_552\\2699740051.py:5: FutureWarning: Passing literal html to 'read_html' is deprecated and will be removed in a future version. To read from a literal string, wrap it in a 'StringIO' object.\n",
      "  return pd.read_html(str(table))\n"
     ]
    },
    {
     "name": "stdout",
     "output_type": "stream",
     "text": [
      "Table saved to: Tablas_paises\\BRASIL_1_6.xlsx\n"
     ]
    },
    {
     "name": "stderr",
     "output_type": "stream",
     "text": [
      "C:\\Users\\computadora\\AppData\\Local\\Temp\\ipykernel_552\\2699740051.py:5: FutureWarning: Passing literal html to 'read_html' is deprecated and will be removed in a future version. To read from a literal string, wrap it in a 'StringIO' object.\n",
      "  return pd.read_html(str(table))\n"
     ]
    },
    {
     "name": "stdout",
     "output_type": "stream",
     "text": [
      "Table saved to: Tablas_paises\\BRASIL_1_7.xlsx\n"
     ]
    },
    {
     "name": "stderr",
     "output_type": "stream",
     "text": [
      "C:\\Users\\computadora\\AppData\\Local\\Temp\\ipykernel_552\\2699740051.py:5: FutureWarning: Passing literal html to 'read_html' is deprecated and will be removed in a future version. To read from a literal string, wrap it in a 'StringIO' object.\n",
      "  return pd.read_html(str(table))\n"
     ]
    },
    {
     "name": "stdout",
     "output_type": "stream",
     "text": [
      "Table saved to: Tablas_paises\\BRASIL_1_8.xlsx\n"
     ]
    },
    {
     "name": "stderr",
     "output_type": "stream",
     "text": [
      "C:\\Users\\computadora\\AppData\\Local\\Temp\\ipykernel_552\\2699740051.py:5: FutureWarning: Passing literal html to 'read_html' is deprecated and will be removed in a future version. To read from a literal string, wrap it in a 'StringIO' object.\n",
      "  return pd.read_html(str(table))\n"
     ]
    },
    {
     "name": "stdout",
     "output_type": "stream",
     "text": [
      "Table saved to: Tablas_paises\\BRASIL_1_9.xlsx\n"
     ]
    },
    {
     "name": "stderr",
     "output_type": "stream",
     "text": [
      "C:\\Users\\computadora\\AppData\\Local\\Temp\\ipykernel_552\\2699740051.py:5: FutureWarning: Passing literal html to 'read_html' is deprecated and will be removed in a future version. To read from a literal string, wrap it in a 'StringIO' object.\n",
      "  return pd.read_html(str(table))\n"
     ]
    },
    {
     "name": "stdout",
     "output_type": "stream",
     "text": [
      "Table saved to: Tablas_paises\\BRASIL_1_10.xlsx\n",
      "Error processing URL nan: Invalid URL 'nan': No scheme supplied. Perhaps you meant https://nan?\n",
      "Error processing URL nan: Invalid URL 'nan': No scheme supplied. Perhaps you meant https://nan?\n"
     ]
    },
    {
     "name": "stderr",
     "output_type": "stream",
     "text": [
      "C:\\Users\\computadora\\AppData\\Local\\Temp\\ipykernel_552\\2699740051.py:5: FutureWarning: Passing literal html to 'read_html' is deprecated and will be removed in a future version. To read from a literal string, wrap it in a 'StringIO' object.\n",
      "  return pd.read_html(str(table))\n"
     ]
    },
    {
     "name": "stdout",
     "output_type": "stream",
     "text": [
      "Table saved to: Tablas_paises\\CHILE_1.xlsx\n"
     ]
    },
    {
     "name": "stderr",
     "output_type": "stream",
     "text": [
      "C:\\Users\\computadora\\AppData\\Local\\Temp\\ipykernel_552\\2699740051.py:5: FutureWarning: Passing literal html to 'read_html' is deprecated and will be removed in a future version. To read from a literal string, wrap it in a 'StringIO' object.\n",
      "  return pd.read_html(str(table))\n"
     ]
    },
    {
     "name": "stdout",
     "output_type": "stream",
     "text": [
      "Table saved to: Tablas_paises\\CHILE_1_1.xlsx\n"
     ]
    },
    {
     "name": "stderr",
     "output_type": "stream",
     "text": [
      "C:\\Users\\computadora\\AppData\\Local\\Temp\\ipykernel_552\\2699740051.py:5: FutureWarning: Passing literal html to 'read_html' is deprecated and will be removed in a future version. To read from a literal string, wrap it in a 'StringIO' object.\n",
      "  return pd.read_html(str(table))\n"
     ]
    },
    {
     "name": "stdout",
     "output_type": "stream",
     "text": [
      "Table saved to: Tablas_paises\\CHILE_1_2.xlsx\n"
     ]
    },
    {
     "name": "stderr",
     "output_type": "stream",
     "text": [
      "C:\\Users\\computadora\\AppData\\Local\\Temp\\ipykernel_552\\2699740051.py:5: FutureWarning: Passing literal html to 'read_html' is deprecated and will be removed in a future version. To read from a literal string, wrap it in a 'StringIO' object.\n",
      "  return pd.read_html(str(table))\n"
     ]
    },
    {
     "name": "stdout",
     "output_type": "stream",
     "text": [
      "Table saved to: Tablas_paises\\CHILE_1_3.xlsx\n"
     ]
    },
    {
     "name": "stderr",
     "output_type": "stream",
     "text": [
      "C:\\Users\\computadora\\AppData\\Local\\Temp\\ipykernel_552\\2699740051.py:5: FutureWarning: Passing literal html to 'read_html' is deprecated and will be removed in a future version. To read from a literal string, wrap it in a 'StringIO' object.\n",
      "  return pd.read_html(str(table))\n"
     ]
    },
    {
     "name": "stdout",
     "output_type": "stream",
     "text": [
      "Table saved to: Tablas_paises\\CHILE_1_4.xlsx\n"
     ]
    },
    {
     "name": "stderr",
     "output_type": "stream",
     "text": [
      "C:\\Users\\computadora\\AppData\\Local\\Temp\\ipykernel_552\\2699740051.py:5: FutureWarning: Passing literal html to 'read_html' is deprecated and will be removed in a future version. To read from a literal string, wrap it in a 'StringIO' object.\n",
      "  return pd.read_html(str(table))\n"
     ]
    },
    {
     "name": "stdout",
     "output_type": "stream",
     "text": [
      "Table saved to: Tablas_paises\\CHILE_1_5.xlsx\n"
     ]
    },
    {
     "name": "stderr",
     "output_type": "stream",
     "text": [
      "C:\\Users\\computadora\\AppData\\Local\\Temp\\ipykernel_552\\2699740051.py:5: FutureWarning: Passing literal html to 'read_html' is deprecated and will be removed in a future version. To read from a literal string, wrap it in a 'StringIO' object.\n",
      "  return pd.read_html(str(table))\n"
     ]
    },
    {
     "name": "stdout",
     "output_type": "stream",
     "text": [
      "Table saved to: Tablas_paises\\CHILE_1_6.xlsx\n"
     ]
    },
    {
     "name": "stderr",
     "output_type": "stream",
     "text": [
      "C:\\Users\\computadora\\AppData\\Local\\Temp\\ipykernel_552\\2699740051.py:5: FutureWarning: Passing literal html to 'read_html' is deprecated and will be removed in a future version. To read from a literal string, wrap it in a 'StringIO' object.\n",
      "  return pd.read_html(str(table))\n"
     ]
    },
    {
     "name": "stdout",
     "output_type": "stream",
     "text": [
      "Table saved to: Tablas_paises\\CHILE_1_7.xlsx\n"
     ]
    },
    {
     "name": "stderr",
     "output_type": "stream",
     "text": [
      "C:\\Users\\computadora\\AppData\\Local\\Temp\\ipykernel_552\\2699740051.py:5: FutureWarning: Passing literal html to 'read_html' is deprecated and will be removed in a future version. To read from a literal string, wrap it in a 'StringIO' object.\n",
      "  return pd.read_html(str(table))\n"
     ]
    },
    {
     "name": "stdout",
     "output_type": "stream",
     "text": [
      "Table saved to: Tablas_paises\\CHILE_1_8.xlsx\n"
     ]
    },
    {
     "name": "stderr",
     "output_type": "stream",
     "text": [
      "C:\\Users\\computadora\\AppData\\Local\\Temp\\ipykernel_552\\2699740051.py:5: FutureWarning: Passing literal html to 'read_html' is deprecated and will be removed in a future version. To read from a literal string, wrap it in a 'StringIO' object.\n",
      "  return pd.read_html(str(table))\n"
     ]
    },
    {
     "name": "stdout",
     "output_type": "stream",
     "text": [
      "Table saved to: Tablas_paises\\CHILE_1_9.xlsx\n"
     ]
    },
    {
     "name": "stderr",
     "output_type": "stream",
     "text": [
      "C:\\Users\\computadora\\AppData\\Local\\Temp\\ipykernel_552\\2699740051.py:5: FutureWarning: Passing literal html to 'read_html' is deprecated and will be removed in a future version. To read from a literal string, wrap it in a 'StringIO' object.\n",
      "  return pd.read_html(str(table))\n"
     ]
    },
    {
     "name": "stdout",
     "output_type": "stream",
     "text": [
      "Table saved to: Tablas_paises\\CHILE_1_10.xlsx\n",
      "Error processing URL nan: Invalid URL 'nan': No scheme supplied. Perhaps you meant https://nan?\n",
      "Error processing URL nan: Invalid URL 'nan': No scheme supplied. Perhaps you meant https://nan?\n"
     ]
    },
    {
     "name": "stderr",
     "output_type": "stream",
     "text": [
      "C:\\Users\\computadora\\AppData\\Local\\Temp\\ipykernel_552\\2699740051.py:5: FutureWarning: Passing literal html to 'read_html' is deprecated and will be removed in a future version. To read from a literal string, wrap it in a 'StringIO' object.\n",
      "  return pd.read_html(str(table))\n"
     ]
    },
    {
     "name": "stdout",
     "output_type": "stream",
     "text": [
      "Table saved to: Tablas_paises\\ECUADOR_1.xlsx\n"
     ]
    },
    {
     "name": "stderr",
     "output_type": "stream",
     "text": [
      "C:\\Users\\computadora\\AppData\\Local\\Temp\\ipykernel_552\\2699740051.py:5: FutureWarning: Passing literal html to 'read_html' is deprecated and will be removed in a future version. To read from a literal string, wrap it in a 'StringIO' object.\n",
      "  return pd.read_html(str(table))\n"
     ]
    },
    {
     "name": "stdout",
     "output_type": "stream",
     "text": [
      "Table saved to: Tablas_paises\\ECUADOR_1_1.xlsx\n"
     ]
    },
    {
     "name": "stderr",
     "output_type": "stream",
     "text": [
      "C:\\Users\\computadora\\AppData\\Local\\Temp\\ipykernel_552\\2699740051.py:5: FutureWarning: Passing literal html to 'read_html' is deprecated and will be removed in a future version. To read from a literal string, wrap it in a 'StringIO' object.\n",
      "  return pd.read_html(str(table))\n"
     ]
    },
    {
     "name": "stdout",
     "output_type": "stream",
     "text": [
      "Table saved to: Tablas_paises\\ECUADOR_1_2.xlsx\n"
     ]
    },
    {
     "name": "stderr",
     "output_type": "stream",
     "text": [
      "C:\\Users\\computadora\\AppData\\Local\\Temp\\ipykernel_552\\2699740051.py:5: FutureWarning: Passing literal html to 'read_html' is deprecated and will be removed in a future version. To read from a literal string, wrap it in a 'StringIO' object.\n",
      "  return pd.read_html(str(table))\n"
     ]
    },
    {
     "name": "stdout",
     "output_type": "stream",
     "text": [
      "Table saved to: Tablas_paises\\ECUADOR_1_3.xlsx\n"
     ]
    },
    {
     "name": "stderr",
     "output_type": "stream",
     "text": [
      "C:\\Users\\computadora\\AppData\\Local\\Temp\\ipykernel_552\\2699740051.py:5: FutureWarning: Passing literal html to 'read_html' is deprecated and will be removed in a future version. To read from a literal string, wrap it in a 'StringIO' object.\n",
      "  return pd.read_html(str(table))\n"
     ]
    },
    {
     "name": "stdout",
     "output_type": "stream",
     "text": [
      "Table saved to: Tablas_paises\\ECUADOR_1_4.xlsx\n"
     ]
    },
    {
     "name": "stderr",
     "output_type": "stream",
     "text": [
      "C:\\Users\\computadora\\AppData\\Local\\Temp\\ipykernel_552\\2699740051.py:5: FutureWarning: Passing literal html to 'read_html' is deprecated and will be removed in a future version. To read from a literal string, wrap it in a 'StringIO' object.\n",
      "  return pd.read_html(str(table))\n"
     ]
    },
    {
     "name": "stdout",
     "output_type": "stream",
     "text": [
      "Table saved to: Tablas_paises\\ECUADOR_1_5.xlsx\n"
     ]
    },
    {
     "name": "stderr",
     "output_type": "stream",
     "text": [
      "C:\\Users\\computadora\\AppData\\Local\\Temp\\ipykernel_552\\2699740051.py:5: FutureWarning: Passing literal html to 'read_html' is deprecated and will be removed in a future version. To read from a literal string, wrap it in a 'StringIO' object.\n",
      "  return pd.read_html(str(table))\n"
     ]
    },
    {
     "name": "stdout",
     "output_type": "stream",
     "text": [
      "Table saved to: Tablas_paises\\ECUADOR_1_6.xlsx\n"
     ]
    },
    {
     "name": "stderr",
     "output_type": "stream",
     "text": [
      "C:\\Users\\computadora\\AppData\\Local\\Temp\\ipykernel_552\\2699740051.py:5: FutureWarning: Passing literal html to 'read_html' is deprecated and will be removed in a future version. To read from a literal string, wrap it in a 'StringIO' object.\n",
      "  return pd.read_html(str(table))\n"
     ]
    },
    {
     "name": "stdout",
     "output_type": "stream",
     "text": [
      "Table saved to: Tablas_paises\\ECUADOR_1_7.xlsx\n"
     ]
    },
    {
     "name": "stderr",
     "output_type": "stream",
     "text": [
      "C:\\Users\\computadora\\AppData\\Local\\Temp\\ipykernel_552\\2699740051.py:5: FutureWarning: Passing literal html to 'read_html' is deprecated and will be removed in a future version. To read from a literal string, wrap it in a 'StringIO' object.\n",
      "  return pd.read_html(str(table))\n"
     ]
    },
    {
     "name": "stdout",
     "output_type": "stream",
     "text": [
      "Table saved to: Tablas_paises\\ECUADOR_1_8.xlsx\n"
     ]
    },
    {
     "name": "stderr",
     "output_type": "stream",
     "text": [
      "C:\\Users\\computadora\\AppData\\Local\\Temp\\ipykernel_552\\2699740051.py:5: FutureWarning: Passing literal html to 'read_html' is deprecated and will be removed in a future version. To read from a literal string, wrap it in a 'StringIO' object.\n",
      "  return pd.read_html(str(table))\n"
     ]
    },
    {
     "name": "stdout",
     "output_type": "stream",
     "text": [
      "Table saved to: Tablas_paises\\ECUADOR_1_9.xlsx\n"
     ]
    },
    {
     "name": "stderr",
     "output_type": "stream",
     "text": [
      "C:\\Users\\computadora\\AppData\\Local\\Temp\\ipykernel_552\\2699740051.py:5: FutureWarning: Passing literal html to 'read_html' is deprecated and will be removed in a future version. To read from a literal string, wrap it in a 'StringIO' object.\n",
      "  return pd.read_html(str(table))\n"
     ]
    },
    {
     "name": "stdout",
     "output_type": "stream",
     "text": [
      "Table saved to: Tablas_paises\\ECUADOR_1_10.xlsx\n",
      "Error processing URL nan: Invalid URL 'nan': No scheme supplied. Perhaps you meant https://nan?\n",
      "Error processing URL nan: Invalid URL 'nan': No scheme supplied. Perhaps you meant https://nan?\n"
     ]
    },
    {
     "name": "stderr",
     "output_type": "stream",
     "text": [
      "C:\\Users\\computadora\\AppData\\Local\\Temp\\ipykernel_552\\2699740051.py:5: FutureWarning: Passing literal html to 'read_html' is deprecated and will be removed in a future version. To read from a literal string, wrap it in a 'StringIO' object.\n",
      "  return pd.read_html(str(table))\n"
     ]
    },
    {
     "name": "stdout",
     "output_type": "stream",
     "text": [
      "Table saved to: Tablas_paises\\PARAGUAY_1.xlsx\n"
     ]
    },
    {
     "name": "stderr",
     "output_type": "stream",
     "text": [
      "C:\\Users\\computadora\\AppData\\Local\\Temp\\ipykernel_552\\2699740051.py:5: FutureWarning: Passing literal html to 'read_html' is deprecated and will be removed in a future version. To read from a literal string, wrap it in a 'StringIO' object.\n",
      "  return pd.read_html(str(table))\n"
     ]
    },
    {
     "name": "stdout",
     "output_type": "stream",
     "text": [
      "Table saved to: Tablas_paises\\PARAGUAY_1_1.xlsx\n"
     ]
    },
    {
     "name": "stderr",
     "output_type": "stream",
     "text": [
      "C:\\Users\\computadora\\AppData\\Local\\Temp\\ipykernel_552\\2699740051.py:5: FutureWarning: Passing literal html to 'read_html' is deprecated and will be removed in a future version. To read from a literal string, wrap it in a 'StringIO' object.\n",
      "  return pd.read_html(str(table))\n"
     ]
    },
    {
     "name": "stdout",
     "output_type": "stream",
     "text": [
      "Table saved to: Tablas_paises\\PARAGUAY_1_2.xlsx\n"
     ]
    },
    {
     "name": "stderr",
     "output_type": "stream",
     "text": [
      "C:\\Users\\computadora\\AppData\\Local\\Temp\\ipykernel_552\\2699740051.py:5: FutureWarning: Passing literal html to 'read_html' is deprecated and will be removed in a future version. To read from a literal string, wrap it in a 'StringIO' object.\n",
      "  return pd.read_html(str(table))\n"
     ]
    },
    {
     "name": "stdout",
     "output_type": "stream",
     "text": [
      "Table saved to: Tablas_paises\\PARAGUAY_1_3.xlsx\n"
     ]
    },
    {
     "name": "stderr",
     "output_type": "stream",
     "text": [
      "C:\\Users\\computadora\\AppData\\Local\\Temp\\ipykernel_552\\2699740051.py:5: FutureWarning: Passing literal html to 'read_html' is deprecated and will be removed in a future version. To read from a literal string, wrap it in a 'StringIO' object.\n",
      "  return pd.read_html(str(table))\n"
     ]
    },
    {
     "name": "stdout",
     "output_type": "stream",
     "text": [
      "Table saved to: Tablas_paises\\PARAGUAY_1_4.xlsx\n"
     ]
    },
    {
     "name": "stderr",
     "output_type": "stream",
     "text": [
      "C:\\Users\\computadora\\AppData\\Local\\Temp\\ipykernel_552\\2699740051.py:5: FutureWarning: Passing literal html to 'read_html' is deprecated and will be removed in a future version. To read from a literal string, wrap it in a 'StringIO' object.\n",
      "  return pd.read_html(str(table))\n"
     ]
    },
    {
     "name": "stdout",
     "output_type": "stream",
     "text": [
      "Table saved to: Tablas_paises\\PARAGUAY_1_5.xlsx\n"
     ]
    },
    {
     "name": "stderr",
     "output_type": "stream",
     "text": [
      "C:\\Users\\computadora\\AppData\\Local\\Temp\\ipykernel_552\\2699740051.py:5: FutureWarning: Passing literal html to 'read_html' is deprecated and will be removed in a future version. To read from a literal string, wrap it in a 'StringIO' object.\n",
      "  return pd.read_html(str(table))\n"
     ]
    },
    {
     "name": "stdout",
     "output_type": "stream",
     "text": [
      "Table saved to: Tablas_paises\\PARAGUAY_1_6.xlsx\n"
     ]
    },
    {
     "name": "stderr",
     "output_type": "stream",
     "text": [
      "C:\\Users\\computadora\\AppData\\Local\\Temp\\ipykernel_552\\2699740051.py:5: FutureWarning: Passing literal html to 'read_html' is deprecated and will be removed in a future version. To read from a literal string, wrap it in a 'StringIO' object.\n",
      "  return pd.read_html(str(table))\n"
     ]
    },
    {
     "name": "stdout",
     "output_type": "stream",
     "text": [
      "Table saved to: Tablas_paises\\PARAGUAY_1_7.xlsx\n"
     ]
    },
    {
     "name": "stderr",
     "output_type": "stream",
     "text": [
      "C:\\Users\\computadora\\AppData\\Local\\Temp\\ipykernel_552\\2699740051.py:5: FutureWarning: Passing literal html to 'read_html' is deprecated and will be removed in a future version. To read from a literal string, wrap it in a 'StringIO' object.\n",
      "  return pd.read_html(str(table))\n"
     ]
    },
    {
     "name": "stdout",
     "output_type": "stream",
     "text": [
      "Table saved to: Tablas_paises\\PARAGUAY_1_8.xlsx\n"
     ]
    },
    {
     "name": "stderr",
     "output_type": "stream",
     "text": [
      "C:\\Users\\computadora\\AppData\\Local\\Temp\\ipykernel_552\\2699740051.py:5: FutureWarning: Passing literal html to 'read_html' is deprecated and will be removed in a future version. To read from a literal string, wrap it in a 'StringIO' object.\n",
      "  return pd.read_html(str(table))\n"
     ]
    },
    {
     "name": "stdout",
     "output_type": "stream",
     "text": [
      "Table saved to: Tablas_paises\\PARAGUAY_1_9.xlsx\n"
     ]
    },
    {
     "name": "stderr",
     "output_type": "stream",
     "text": [
      "C:\\Users\\computadora\\AppData\\Local\\Temp\\ipykernel_552\\2699740051.py:5: FutureWarning: Passing literal html to 'read_html' is deprecated and will be removed in a future version. To read from a literal string, wrap it in a 'StringIO' object.\n",
      "  return pd.read_html(str(table))\n"
     ]
    },
    {
     "name": "stdout",
     "output_type": "stream",
     "text": [
      "Table saved to: Tablas_paises\\PARAGUAY_1_10.xlsx\n",
      "Error processing URL nan: Invalid URL 'nan': No scheme supplied. Perhaps you meant https://nan?\n",
      "Error processing URL nan: Invalid URL 'nan': No scheme supplied. Perhaps you meant https://nan?\n"
     ]
    },
    {
     "name": "stderr",
     "output_type": "stream",
     "text": [
      "C:\\Users\\computadora\\AppData\\Local\\Temp\\ipykernel_552\\2699740051.py:5: FutureWarning: Passing literal html to 'read_html' is deprecated and will be removed in a future version. To read from a literal string, wrap it in a 'StringIO' object.\n",
      "  return pd.read_html(str(table))\n"
     ]
    },
    {
     "name": "stdout",
     "output_type": "stream",
     "text": [
      "Table saved to: Tablas_paises\\URUGUAY_1.xlsx\n"
     ]
    },
    {
     "name": "stderr",
     "output_type": "stream",
     "text": [
      "C:\\Users\\computadora\\AppData\\Local\\Temp\\ipykernel_552\\2699740051.py:5: FutureWarning: Passing literal html to 'read_html' is deprecated and will be removed in a future version. To read from a literal string, wrap it in a 'StringIO' object.\n",
      "  return pd.read_html(str(table))\n"
     ]
    },
    {
     "name": "stdout",
     "output_type": "stream",
     "text": [
      "Table saved to: Tablas_paises\\URUGUAY_1_1.xlsx\n"
     ]
    },
    {
     "name": "stderr",
     "output_type": "stream",
     "text": [
      "C:\\Users\\computadora\\AppData\\Local\\Temp\\ipykernel_552\\2699740051.py:5: FutureWarning: Passing literal html to 'read_html' is deprecated and will be removed in a future version. To read from a literal string, wrap it in a 'StringIO' object.\n",
      "  return pd.read_html(str(table))\n"
     ]
    },
    {
     "name": "stdout",
     "output_type": "stream",
     "text": [
      "Table saved to: Tablas_paises\\URUGUAY_1_2.xlsx\n"
     ]
    },
    {
     "name": "stderr",
     "output_type": "stream",
     "text": [
      "C:\\Users\\computadora\\AppData\\Local\\Temp\\ipykernel_552\\2699740051.py:5: FutureWarning: Passing literal html to 'read_html' is deprecated and will be removed in a future version. To read from a literal string, wrap it in a 'StringIO' object.\n",
      "  return pd.read_html(str(table))\n"
     ]
    },
    {
     "name": "stdout",
     "output_type": "stream",
     "text": [
      "Table saved to: Tablas_paises\\URUGUAY_1_3.xlsx\n"
     ]
    },
    {
     "name": "stderr",
     "output_type": "stream",
     "text": [
      "C:\\Users\\computadora\\AppData\\Local\\Temp\\ipykernel_552\\2699740051.py:5: FutureWarning: Passing literal html to 'read_html' is deprecated and will be removed in a future version. To read from a literal string, wrap it in a 'StringIO' object.\n",
      "  return pd.read_html(str(table))\n"
     ]
    },
    {
     "name": "stdout",
     "output_type": "stream",
     "text": [
      "Table saved to: Tablas_paises\\URUGUAY_1_4.xlsx\n"
     ]
    },
    {
     "name": "stderr",
     "output_type": "stream",
     "text": [
      "C:\\Users\\computadora\\AppData\\Local\\Temp\\ipykernel_552\\2699740051.py:5: FutureWarning: Passing literal html to 'read_html' is deprecated and will be removed in a future version. To read from a literal string, wrap it in a 'StringIO' object.\n",
      "  return pd.read_html(str(table))\n"
     ]
    },
    {
     "name": "stdout",
     "output_type": "stream",
     "text": [
      "Table saved to: Tablas_paises\\URUGUAY_1_5.xlsx\n"
     ]
    },
    {
     "name": "stderr",
     "output_type": "stream",
     "text": [
      "C:\\Users\\computadora\\AppData\\Local\\Temp\\ipykernel_552\\2699740051.py:5: FutureWarning: Passing literal html to 'read_html' is deprecated and will be removed in a future version. To read from a literal string, wrap it in a 'StringIO' object.\n",
      "  return pd.read_html(str(table))\n"
     ]
    },
    {
     "name": "stdout",
     "output_type": "stream",
     "text": [
      "Table saved to: Tablas_paises\\URUGUAY_1_6.xlsx\n"
     ]
    },
    {
     "name": "stderr",
     "output_type": "stream",
     "text": [
      "C:\\Users\\computadora\\AppData\\Local\\Temp\\ipykernel_552\\2699740051.py:5: FutureWarning: Passing literal html to 'read_html' is deprecated and will be removed in a future version. To read from a literal string, wrap it in a 'StringIO' object.\n",
      "  return pd.read_html(str(table))\n"
     ]
    },
    {
     "name": "stdout",
     "output_type": "stream",
     "text": [
      "Table saved to: Tablas_paises\\URUGUAY_1_7.xlsx\n"
     ]
    },
    {
     "name": "stderr",
     "output_type": "stream",
     "text": [
      "C:\\Users\\computadora\\AppData\\Local\\Temp\\ipykernel_552\\2699740051.py:5: FutureWarning: Passing literal html to 'read_html' is deprecated and will be removed in a future version. To read from a literal string, wrap it in a 'StringIO' object.\n",
      "  return pd.read_html(str(table))\n"
     ]
    },
    {
     "name": "stdout",
     "output_type": "stream",
     "text": [
      "Table saved to: Tablas_paises\\URUGUAY_1_8.xlsx\n"
     ]
    },
    {
     "name": "stderr",
     "output_type": "stream",
     "text": [
      "C:\\Users\\computadora\\AppData\\Local\\Temp\\ipykernel_552\\2699740051.py:5: FutureWarning: Passing literal html to 'read_html' is deprecated and will be removed in a future version. To read from a literal string, wrap it in a 'StringIO' object.\n",
      "  return pd.read_html(str(table))\n"
     ]
    },
    {
     "name": "stdout",
     "output_type": "stream",
     "text": [
      "Table saved to: Tablas_paises\\URUGUAY_1_9.xlsx\n"
     ]
    },
    {
     "name": "stderr",
     "output_type": "stream",
     "text": [
      "C:\\Users\\computadora\\AppData\\Local\\Temp\\ipykernel_552\\2699740051.py:5: FutureWarning: Passing literal html to 'read_html' is deprecated and will be removed in a future version. To read from a literal string, wrap it in a 'StringIO' object.\n",
      "  return pd.read_html(str(table))\n"
     ]
    },
    {
     "name": "stdout",
     "output_type": "stream",
     "text": [
      "Table saved to: Tablas_paises\\URUGUAY_1_10.xlsx\n",
      "Error processing URL nan: Invalid URL 'nan': No scheme supplied. Perhaps you meant https://nan?\n",
      "Error processing URL nan: Invalid URL 'nan': No scheme supplied. Perhaps you meant https://nan?\n"
     ]
    },
    {
     "name": "stderr",
     "output_type": "stream",
     "text": [
      "C:\\Users\\computadora\\AppData\\Local\\Temp\\ipykernel_552\\2699740051.py:5: FutureWarning: Passing literal html to 'read_html' is deprecated and will be removed in a future version. To read from a literal string, wrap it in a 'StringIO' object.\n",
      "  return pd.read_html(str(table))\n"
     ]
    },
    {
     "name": "stdout",
     "output_type": "stream",
     "text": [
      "Table saved to: Tablas_paises\\COSTA RICA_1.xlsx\n"
     ]
    },
    {
     "name": "stderr",
     "output_type": "stream",
     "text": [
      "C:\\Users\\computadora\\AppData\\Local\\Temp\\ipykernel_552\\2699740051.py:5: FutureWarning: Passing literal html to 'read_html' is deprecated and will be removed in a future version. To read from a literal string, wrap it in a 'StringIO' object.\n",
      "  return pd.read_html(str(table))\n"
     ]
    },
    {
     "name": "stdout",
     "output_type": "stream",
     "text": [
      "Table saved to: Tablas_paises\\COSTA RICA_1_1.xlsx\n"
     ]
    },
    {
     "name": "stderr",
     "output_type": "stream",
     "text": [
      "C:\\Users\\computadora\\AppData\\Local\\Temp\\ipykernel_552\\2699740051.py:5: FutureWarning: Passing literal html to 'read_html' is deprecated and will be removed in a future version. To read from a literal string, wrap it in a 'StringIO' object.\n",
      "  return pd.read_html(str(table))\n"
     ]
    },
    {
     "name": "stdout",
     "output_type": "stream",
     "text": [
      "Table saved to: Tablas_paises\\COSTA RICA_1_2.xlsx\n"
     ]
    },
    {
     "name": "stderr",
     "output_type": "stream",
     "text": [
      "C:\\Users\\computadora\\AppData\\Local\\Temp\\ipykernel_552\\2699740051.py:5: FutureWarning: Passing literal html to 'read_html' is deprecated and will be removed in a future version. To read from a literal string, wrap it in a 'StringIO' object.\n",
      "  return pd.read_html(str(table))\n"
     ]
    },
    {
     "name": "stdout",
     "output_type": "stream",
     "text": [
      "Table saved to: Tablas_paises\\COSTA RICA_1_3.xlsx\n"
     ]
    },
    {
     "name": "stderr",
     "output_type": "stream",
     "text": [
      "C:\\Users\\computadora\\AppData\\Local\\Temp\\ipykernel_552\\2699740051.py:5: FutureWarning: Passing literal html to 'read_html' is deprecated and will be removed in a future version. To read from a literal string, wrap it in a 'StringIO' object.\n",
      "  return pd.read_html(str(table))\n"
     ]
    },
    {
     "name": "stdout",
     "output_type": "stream",
     "text": [
      "Table saved to: Tablas_paises\\COSTA RICA_1_4.xlsx\n"
     ]
    },
    {
     "name": "stderr",
     "output_type": "stream",
     "text": [
      "C:\\Users\\computadora\\AppData\\Local\\Temp\\ipykernel_552\\2699740051.py:5: FutureWarning: Passing literal html to 'read_html' is deprecated and will be removed in a future version. To read from a literal string, wrap it in a 'StringIO' object.\n",
      "  return pd.read_html(str(table))\n"
     ]
    },
    {
     "name": "stdout",
     "output_type": "stream",
     "text": [
      "Table saved to: Tablas_paises\\COSTA RICA_1_5.xlsx\n"
     ]
    },
    {
     "name": "stderr",
     "output_type": "stream",
     "text": [
      "C:\\Users\\computadora\\AppData\\Local\\Temp\\ipykernel_552\\2699740051.py:5: FutureWarning: Passing literal html to 'read_html' is deprecated and will be removed in a future version. To read from a literal string, wrap it in a 'StringIO' object.\n",
      "  return pd.read_html(str(table))\n"
     ]
    },
    {
     "name": "stdout",
     "output_type": "stream",
     "text": [
      "Table saved to: Tablas_paises\\COSTA RICA_1_6.xlsx\n"
     ]
    },
    {
     "name": "stderr",
     "output_type": "stream",
     "text": [
      "C:\\Users\\computadora\\AppData\\Local\\Temp\\ipykernel_552\\2699740051.py:5: FutureWarning: Passing literal html to 'read_html' is deprecated and will be removed in a future version. To read from a literal string, wrap it in a 'StringIO' object.\n",
      "  return pd.read_html(str(table))\n"
     ]
    },
    {
     "name": "stdout",
     "output_type": "stream",
     "text": [
      "Table saved to: Tablas_paises\\COSTA RICA_1_7.xlsx\n"
     ]
    },
    {
     "name": "stderr",
     "output_type": "stream",
     "text": [
      "C:\\Users\\computadora\\AppData\\Local\\Temp\\ipykernel_552\\2699740051.py:5: FutureWarning: Passing literal html to 'read_html' is deprecated and will be removed in a future version. To read from a literal string, wrap it in a 'StringIO' object.\n",
      "  return pd.read_html(str(table))\n"
     ]
    },
    {
     "name": "stdout",
     "output_type": "stream",
     "text": [
      "Table saved to: Tablas_paises\\COSTA RICA_1_8.xlsx\n"
     ]
    },
    {
     "name": "stderr",
     "output_type": "stream",
     "text": [
      "C:\\Users\\computadora\\AppData\\Local\\Temp\\ipykernel_552\\2699740051.py:5: FutureWarning: Passing literal html to 'read_html' is deprecated and will be removed in a future version. To read from a literal string, wrap it in a 'StringIO' object.\n",
      "  return pd.read_html(str(table))\n"
     ]
    },
    {
     "name": "stdout",
     "output_type": "stream",
     "text": [
      "Table saved to: Tablas_paises\\COSTA RICA_1_9.xlsx\n"
     ]
    },
    {
     "name": "stderr",
     "output_type": "stream",
     "text": [
      "C:\\Users\\computadora\\AppData\\Local\\Temp\\ipykernel_552\\2699740051.py:5: FutureWarning: Passing literal html to 'read_html' is deprecated and will be removed in a future version. To read from a literal string, wrap it in a 'StringIO' object.\n",
      "  return pd.read_html(str(table))\n"
     ]
    },
    {
     "name": "stdout",
     "output_type": "stream",
     "text": [
      "Table saved to: Tablas_paises\\COSTA RICA_1_10.xlsx\n",
      "Error processing URL nan: Invalid URL 'nan': No scheme supplied. Perhaps you meant https://nan?\n",
      "Error processing URL nan: Invalid URL 'nan': No scheme supplied. Perhaps you meant https://nan?\n"
     ]
    },
    {
     "name": "stderr",
     "output_type": "stream",
     "text": [
      "C:\\Users\\computadora\\AppData\\Local\\Temp\\ipykernel_552\\2699740051.py:5: FutureWarning: Passing literal html to 'read_html' is deprecated and will be removed in a future version. To read from a literal string, wrap it in a 'StringIO' object.\n",
      "  return pd.read_html(str(table))\n"
     ]
    },
    {
     "name": "stdout",
     "output_type": "stream",
     "text": [
      "Table saved to: Tablas_paises\\GUATEMALA_1.xlsx\n"
     ]
    },
    {
     "name": "stderr",
     "output_type": "stream",
     "text": [
      "C:\\Users\\computadora\\AppData\\Local\\Temp\\ipykernel_552\\2699740051.py:5: FutureWarning: Passing literal html to 'read_html' is deprecated and will be removed in a future version. To read from a literal string, wrap it in a 'StringIO' object.\n",
      "  return pd.read_html(str(table))\n"
     ]
    },
    {
     "name": "stdout",
     "output_type": "stream",
     "text": [
      "Table saved to: Tablas_paises\\GUATEMALA_1_1.xlsx\n"
     ]
    },
    {
     "name": "stderr",
     "output_type": "stream",
     "text": [
      "C:\\Users\\computadora\\AppData\\Local\\Temp\\ipykernel_552\\2699740051.py:5: FutureWarning: Passing literal html to 'read_html' is deprecated and will be removed in a future version. To read from a literal string, wrap it in a 'StringIO' object.\n",
      "  return pd.read_html(str(table))\n"
     ]
    },
    {
     "name": "stdout",
     "output_type": "stream",
     "text": [
      "Table saved to: Tablas_paises\\GUATEMALA_1_2.xlsx\n"
     ]
    },
    {
     "name": "stderr",
     "output_type": "stream",
     "text": [
      "C:\\Users\\computadora\\AppData\\Local\\Temp\\ipykernel_552\\2699740051.py:5: FutureWarning: Passing literal html to 'read_html' is deprecated and will be removed in a future version. To read from a literal string, wrap it in a 'StringIO' object.\n",
      "  return pd.read_html(str(table))\n"
     ]
    },
    {
     "name": "stdout",
     "output_type": "stream",
     "text": [
      "Table saved to: Tablas_paises\\GUATEMALA_1_3.xlsx\n"
     ]
    },
    {
     "name": "stderr",
     "output_type": "stream",
     "text": [
      "C:\\Users\\computadora\\AppData\\Local\\Temp\\ipykernel_552\\2699740051.py:5: FutureWarning: Passing literal html to 'read_html' is deprecated and will be removed in a future version. To read from a literal string, wrap it in a 'StringIO' object.\n",
      "  return pd.read_html(str(table))\n"
     ]
    },
    {
     "name": "stdout",
     "output_type": "stream",
     "text": [
      "Table saved to: Tablas_paises\\GUATEMALA_1_4.xlsx\n"
     ]
    },
    {
     "name": "stderr",
     "output_type": "stream",
     "text": [
      "C:\\Users\\computadora\\AppData\\Local\\Temp\\ipykernel_552\\2699740051.py:5: FutureWarning: Passing literal html to 'read_html' is deprecated and will be removed in a future version. To read from a literal string, wrap it in a 'StringIO' object.\n",
      "  return pd.read_html(str(table))\n"
     ]
    },
    {
     "name": "stdout",
     "output_type": "stream",
     "text": [
      "Table saved to: Tablas_paises\\GUATEMALA_1_5.xlsx\n"
     ]
    },
    {
     "name": "stderr",
     "output_type": "stream",
     "text": [
      "C:\\Users\\computadora\\AppData\\Local\\Temp\\ipykernel_552\\2699740051.py:5: FutureWarning: Passing literal html to 'read_html' is deprecated and will be removed in a future version. To read from a literal string, wrap it in a 'StringIO' object.\n",
      "  return pd.read_html(str(table))\n"
     ]
    },
    {
     "name": "stdout",
     "output_type": "stream",
     "text": [
      "Table saved to: Tablas_paises\\GUATEMALA_1_6.xlsx\n"
     ]
    },
    {
     "name": "stderr",
     "output_type": "stream",
     "text": [
      "C:\\Users\\computadora\\AppData\\Local\\Temp\\ipykernel_552\\2699740051.py:5: FutureWarning: Passing literal html to 'read_html' is deprecated and will be removed in a future version. To read from a literal string, wrap it in a 'StringIO' object.\n",
      "  return pd.read_html(str(table))\n"
     ]
    },
    {
     "name": "stdout",
     "output_type": "stream",
     "text": [
      "Table saved to: Tablas_paises\\GUATEMALA_1_7.xlsx\n"
     ]
    },
    {
     "name": "stderr",
     "output_type": "stream",
     "text": [
      "C:\\Users\\computadora\\AppData\\Local\\Temp\\ipykernel_552\\2699740051.py:5: FutureWarning: Passing literal html to 'read_html' is deprecated and will be removed in a future version. To read from a literal string, wrap it in a 'StringIO' object.\n",
      "  return pd.read_html(str(table))\n"
     ]
    },
    {
     "name": "stdout",
     "output_type": "stream",
     "text": [
      "Table saved to: Tablas_paises\\GUATEMALA_1_8.xlsx\n"
     ]
    },
    {
     "name": "stderr",
     "output_type": "stream",
     "text": [
      "C:\\Users\\computadora\\AppData\\Local\\Temp\\ipykernel_552\\2699740051.py:5: FutureWarning: Passing literal html to 'read_html' is deprecated and will be removed in a future version. To read from a literal string, wrap it in a 'StringIO' object.\n",
      "  return pd.read_html(str(table))\n"
     ]
    },
    {
     "name": "stdout",
     "output_type": "stream",
     "text": [
      "Table saved to: Tablas_paises\\GUATEMALA_1_9.xlsx\n"
     ]
    },
    {
     "name": "stderr",
     "output_type": "stream",
     "text": [
      "C:\\Users\\computadora\\AppData\\Local\\Temp\\ipykernel_552\\2699740051.py:5: FutureWarning: Passing literal html to 'read_html' is deprecated and will be removed in a future version. To read from a literal string, wrap it in a 'StringIO' object.\n",
      "  return pd.read_html(str(table))\n"
     ]
    },
    {
     "name": "stdout",
     "output_type": "stream",
     "text": [
      "Table saved to: Tablas_paises\\GUATEMALA_1_10.xlsx\n",
      "Error processing URL nan: Invalid URL 'nan': No scheme supplied. Perhaps you meant https://nan?\n",
      "Error processing URL nan: Invalid URL 'nan': No scheme supplied. Perhaps you meant https://nan?\n"
     ]
    },
    {
     "name": "stderr",
     "output_type": "stream",
     "text": [
      "C:\\Users\\computadora\\AppData\\Local\\Temp\\ipykernel_552\\2699740051.py:5: FutureWarning: Passing literal html to 'read_html' is deprecated and will be removed in a future version. To read from a literal string, wrap it in a 'StringIO' object.\n",
      "  return pd.read_html(str(table))\n"
     ]
    },
    {
     "name": "stdout",
     "output_type": "stream",
     "text": [
      "Table saved to: Tablas_paises\\HONDURAS_1.xlsx\n"
     ]
    },
    {
     "name": "stderr",
     "output_type": "stream",
     "text": [
      "C:\\Users\\computadora\\AppData\\Local\\Temp\\ipykernel_552\\2699740051.py:5: FutureWarning: Passing literal html to 'read_html' is deprecated and will be removed in a future version. To read from a literal string, wrap it in a 'StringIO' object.\n",
      "  return pd.read_html(str(table))\n"
     ]
    },
    {
     "name": "stdout",
     "output_type": "stream",
     "text": [
      "Table saved to: Tablas_paises\\HONDURAS_1_1.xlsx\n"
     ]
    },
    {
     "name": "stderr",
     "output_type": "stream",
     "text": [
      "C:\\Users\\computadora\\AppData\\Local\\Temp\\ipykernel_552\\2699740051.py:5: FutureWarning: Passing literal html to 'read_html' is deprecated and will be removed in a future version. To read from a literal string, wrap it in a 'StringIO' object.\n",
      "  return pd.read_html(str(table))\n"
     ]
    },
    {
     "name": "stdout",
     "output_type": "stream",
     "text": [
      "Table saved to: Tablas_paises\\HONDURAS_1_2.xlsx\n"
     ]
    },
    {
     "name": "stderr",
     "output_type": "stream",
     "text": [
      "C:\\Users\\computadora\\AppData\\Local\\Temp\\ipykernel_552\\2699740051.py:5: FutureWarning: Passing literal html to 'read_html' is deprecated and will be removed in a future version. To read from a literal string, wrap it in a 'StringIO' object.\n",
      "  return pd.read_html(str(table))\n"
     ]
    },
    {
     "name": "stdout",
     "output_type": "stream",
     "text": [
      "Table saved to: Tablas_paises\\HONDURAS_1_3.xlsx\n"
     ]
    },
    {
     "name": "stderr",
     "output_type": "stream",
     "text": [
      "C:\\Users\\computadora\\AppData\\Local\\Temp\\ipykernel_552\\2699740051.py:5: FutureWarning: Passing literal html to 'read_html' is deprecated and will be removed in a future version. To read from a literal string, wrap it in a 'StringIO' object.\n",
      "  return pd.read_html(str(table))\n"
     ]
    },
    {
     "name": "stdout",
     "output_type": "stream",
     "text": [
      "Table saved to: Tablas_paises\\HONDURAS_1_4.xlsx\n"
     ]
    },
    {
     "name": "stderr",
     "output_type": "stream",
     "text": [
      "C:\\Users\\computadora\\AppData\\Local\\Temp\\ipykernel_552\\2699740051.py:5: FutureWarning: Passing literal html to 'read_html' is deprecated and will be removed in a future version. To read from a literal string, wrap it in a 'StringIO' object.\n",
      "  return pd.read_html(str(table))\n"
     ]
    },
    {
     "name": "stdout",
     "output_type": "stream",
     "text": [
      "Table saved to: Tablas_paises\\HONDURAS_1_5.xlsx\n"
     ]
    },
    {
     "name": "stderr",
     "output_type": "stream",
     "text": [
      "C:\\Users\\computadora\\AppData\\Local\\Temp\\ipykernel_552\\2699740051.py:5: FutureWarning: Passing literal html to 'read_html' is deprecated and will be removed in a future version. To read from a literal string, wrap it in a 'StringIO' object.\n",
      "  return pd.read_html(str(table))\n"
     ]
    },
    {
     "name": "stdout",
     "output_type": "stream",
     "text": [
      "Table saved to: Tablas_paises\\HONDURAS_1_6.xlsx\n"
     ]
    },
    {
     "name": "stderr",
     "output_type": "stream",
     "text": [
      "C:\\Users\\computadora\\AppData\\Local\\Temp\\ipykernel_552\\2699740051.py:5: FutureWarning: Passing literal html to 'read_html' is deprecated and will be removed in a future version. To read from a literal string, wrap it in a 'StringIO' object.\n",
      "  return pd.read_html(str(table))\n"
     ]
    },
    {
     "name": "stdout",
     "output_type": "stream",
     "text": [
      "Table saved to: Tablas_paises\\HONDURAS_1_7.xlsx\n"
     ]
    },
    {
     "name": "stderr",
     "output_type": "stream",
     "text": [
      "C:\\Users\\computadora\\AppData\\Local\\Temp\\ipykernel_552\\2699740051.py:5: FutureWarning: Passing literal html to 'read_html' is deprecated and will be removed in a future version. To read from a literal string, wrap it in a 'StringIO' object.\n",
      "  return pd.read_html(str(table))\n"
     ]
    },
    {
     "name": "stdout",
     "output_type": "stream",
     "text": [
      "Table saved to: Tablas_paises\\HONDURAS_1_8.xlsx\n"
     ]
    },
    {
     "name": "stderr",
     "output_type": "stream",
     "text": [
      "C:\\Users\\computadora\\AppData\\Local\\Temp\\ipykernel_552\\2699740051.py:5: FutureWarning: Passing literal html to 'read_html' is deprecated and will be removed in a future version. To read from a literal string, wrap it in a 'StringIO' object.\n",
      "  return pd.read_html(str(table))\n"
     ]
    },
    {
     "name": "stdout",
     "output_type": "stream",
     "text": [
      "Table saved to: Tablas_paises\\HONDURAS_1_9.xlsx\n"
     ]
    },
    {
     "name": "stderr",
     "output_type": "stream",
     "text": [
      "C:\\Users\\computadora\\AppData\\Local\\Temp\\ipykernel_552\\2699740051.py:5: FutureWarning: Passing literal html to 'read_html' is deprecated and will be removed in a future version. To read from a literal string, wrap it in a 'StringIO' object.\n",
      "  return pd.read_html(str(table))\n"
     ]
    },
    {
     "name": "stdout",
     "output_type": "stream",
     "text": [
      "Table saved to: Tablas_paises\\HONDURAS_1_10.xlsx\n",
      "Error processing URL nan: Invalid URL 'nan': No scheme supplied. Perhaps you meant https://nan?\n",
      "Error processing URL nan: Invalid URL 'nan': No scheme supplied. Perhaps you meant https://nan?\n"
     ]
    },
    {
     "name": "stderr",
     "output_type": "stream",
     "text": [
      "C:\\Users\\computadora\\AppData\\Local\\Temp\\ipykernel_552\\2699740051.py:5: FutureWarning: Passing literal html to 'read_html' is deprecated and will be removed in a future version. To read from a literal string, wrap it in a 'StringIO' object.\n",
      "  return pd.read_html(str(table))\n"
     ]
    },
    {
     "name": "stdout",
     "output_type": "stream",
     "text": [
      "Table saved to: Tablas_paises\\NICARAGUA_1.xlsx\n"
     ]
    },
    {
     "name": "stderr",
     "output_type": "stream",
     "text": [
      "C:\\Users\\computadora\\AppData\\Local\\Temp\\ipykernel_552\\2699740051.py:5: FutureWarning: Passing literal html to 'read_html' is deprecated and will be removed in a future version. To read from a literal string, wrap it in a 'StringIO' object.\n",
      "  return pd.read_html(str(table))\n"
     ]
    },
    {
     "name": "stdout",
     "output_type": "stream",
     "text": [
      "Table saved to: Tablas_paises\\NICARAGUA_1_1.xlsx\n"
     ]
    },
    {
     "name": "stderr",
     "output_type": "stream",
     "text": [
      "C:\\Users\\computadora\\AppData\\Local\\Temp\\ipykernel_552\\2699740051.py:5: FutureWarning: Passing literal html to 'read_html' is deprecated and will be removed in a future version. To read from a literal string, wrap it in a 'StringIO' object.\n",
      "  return pd.read_html(str(table))\n"
     ]
    },
    {
     "name": "stdout",
     "output_type": "stream",
     "text": [
      "Table saved to: Tablas_paises\\NICARAGUA_1_2.xlsx\n"
     ]
    },
    {
     "name": "stderr",
     "output_type": "stream",
     "text": [
      "C:\\Users\\computadora\\AppData\\Local\\Temp\\ipykernel_552\\2699740051.py:5: FutureWarning: Passing literal html to 'read_html' is deprecated and will be removed in a future version. To read from a literal string, wrap it in a 'StringIO' object.\n",
      "  return pd.read_html(str(table))\n"
     ]
    },
    {
     "name": "stdout",
     "output_type": "stream",
     "text": [
      "Table saved to: Tablas_paises\\NICARAGUA_1_3.xlsx\n"
     ]
    },
    {
     "name": "stderr",
     "output_type": "stream",
     "text": [
      "C:\\Users\\computadora\\AppData\\Local\\Temp\\ipykernel_552\\2699740051.py:5: FutureWarning: Passing literal html to 'read_html' is deprecated and will be removed in a future version. To read from a literal string, wrap it in a 'StringIO' object.\n",
      "  return pd.read_html(str(table))\n"
     ]
    },
    {
     "name": "stdout",
     "output_type": "stream",
     "text": [
      "Table saved to: Tablas_paises\\NICARAGUA_1_4.xlsx\n"
     ]
    },
    {
     "name": "stderr",
     "output_type": "stream",
     "text": [
      "C:\\Users\\computadora\\AppData\\Local\\Temp\\ipykernel_552\\2699740051.py:5: FutureWarning: Passing literal html to 'read_html' is deprecated and will be removed in a future version. To read from a literal string, wrap it in a 'StringIO' object.\n",
      "  return pd.read_html(str(table))\n"
     ]
    },
    {
     "name": "stdout",
     "output_type": "stream",
     "text": [
      "Table saved to: Tablas_paises\\NICARAGUA_1_5.xlsx\n"
     ]
    },
    {
     "name": "stderr",
     "output_type": "stream",
     "text": [
      "C:\\Users\\computadora\\AppData\\Local\\Temp\\ipykernel_552\\2699740051.py:5: FutureWarning: Passing literal html to 'read_html' is deprecated and will be removed in a future version. To read from a literal string, wrap it in a 'StringIO' object.\n",
      "  return pd.read_html(str(table))\n"
     ]
    },
    {
     "name": "stdout",
     "output_type": "stream",
     "text": [
      "Table saved to: Tablas_paises\\NICARAGUA_1_6.xlsx\n"
     ]
    },
    {
     "name": "stderr",
     "output_type": "stream",
     "text": [
      "C:\\Users\\computadora\\AppData\\Local\\Temp\\ipykernel_552\\2699740051.py:5: FutureWarning: Passing literal html to 'read_html' is deprecated and will be removed in a future version. To read from a literal string, wrap it in a 'StringIO' object.\n",
      "  return pd.read_html(str(table))\n"
     ]
    },
    {
     "name": "stdout",
     "output_type": "stream",
     "text": [
      "Table saved to: Tablas_paises\\NICARAGUA_1_7.xlsx\n"
     ]
    },
    {
     "name": "stderr",
     "output_type": "stream",
     "text": [
      "C:\\Users\\computadora\\AppData\\Local\\Temp\\ipykernel_552\\2699740051.py:5: FutureWarning: Passing literal html to 'read_html' is deprecated and will be removed in a future version. To read from a literal string, wrap it in a 'StringIO' object.\n",
      "  return pd.read_html(str(table))\n"
     ]
    },
    {
     "name": "stdout",
     "output_type": "stream",
     "text": [
      "Table saved to: Tablas_paises\\NICARAGUA_1_8.xlsx\n"
     ]
    },
    {
     "name": "stderr",
     "output_type": "stream",
     "text": [
      "C:\\Users\\computadora\\AppData\\Local\\Temp\\ipykernel_552\\2699740051.py:5: FutureWarning: Passing literal html to 'read_html' is deprecated and will be removed in a future version. To read from a literal string, wrap it in a 'StringIO' object.\n",
      "  return pd.read_html(str(table))\n"
     ]
    },
    {
     "name": "stdout",
     "output_type": "stream",
     "text": [
      "Table saved to: Tablas_paises\\NICARAGUA_1_9.xlsx\n"
     ]
    },
    {
     "name": "stderr",
     "output_type": "stream",
     "text": [
      "C:\\Users\\computadora\\AppData\\Local\\Temp\\ipykernel_552\\2699740051.py:5: FutureWarning: Passing literal html to 'read_html' is deprecated and will be removed in a future version. To read from a literal string, wrap it in a 'StringIO' object.\n",
      "  return pd.read_html(str(table))\n"
     ]
    },
    {
     "name": "stdout",
     "output_type": "stream",
     "text": [
      "Table saved to: Tablas_paises\\NICARAGUA_1_10.xlsx\n",
      "Error processing URL nan: Invalid URL 'nan': No scheme supplied. Perhaps you meant https://nan?\n",
      "Error processing URL nan: Invalid URL 'nan': No scheme supplied. Perhaps you meant https://nan?\n"
     ]
    },
    {
     "name": "stderr",
     "output_type": "stream",
     "text": [
      "C:\\Users\\computadora\\AppData\\Local\\Temp\\ipykernel_552\\2699740051.py:5: FutureWarning: Passing literal html to 'read_html' is deprecated and will be removed in a future version. To read from a literal string, wrap it in a 'StringIO' object.\n",
      "  return pd.read_html(str(table))\n"
     ]
    },
    {
     "name": "stdout",
     "output_type": "stream",
     "text": [
      "Table saved to: Tablas_paises\\PANAMA_1.xlsx\n"
     ]
    },
    {
     "name": "stderr",
     "output_type": "stream",
     "text": [
      "C:\\Users\\computadora\\AppData\\Local\\Temp\\ipykernel_552\\2699740051.py:5: FutureWarning: Passing literal html to 'read_html' is deprecated and will be removed in a future version. To read from a literal string, wrap it in a 'StringIO' object.\n",
      "  return pd.read_html(str(table))\n"
     ]
    },
    {
     "name": "stdout",
     "output_type": "stream",
     "text": [
      "Table saved to: Tablas_paises\\PANAMA_1_1.xlsx\n"
     ]
    },
    {
     "name": "stderr",
     "output_type": "stream",
     "text": [
      "C:\\Users\\computadora\\AppData\\Local\\Temp\\ipykernel_552\\2699740051.py:5: FutureWarning: Passing literal html to 'read_html' is deprecated and will be removed in a future version. To read from a literal string, wrap it in a 'StringIO' object.\n",
      "  return pd.read_html(str(table))\n"
     ]
    },
    {
     "name": "stdout",
     "output_type": "stream",
     "text": [
      "Table saved to: Tablas_paises\\PANAMA_1_2.xlsx\n"
     ]
    },
    {
     "name": "stderr",
     "output_type": "stream",
     "text": [
      "C:\\Users\\computadora\\AppData\\Local\\Temp\\ipykernel_552\\2699740051.py:5: FutureWarning: Passing literal html to 'read_html' is deprecated and will be removed in a future version. To read from a literal string, wrap it in a 'StringIO' object.\n",
      "  return pd.read_html(str(table))\n"
     ]
    },
    {
     "name": "stdout",
     "output_type": "stream",
     "text": [
      "Table saved to: Tablas_paises\\PANAMA_1_3.xlsx\n"
     ]
    },
    {
     "name": "stderr",
     "output_type": "stream",
     "text": [
      "C:\\Users\\computadora\\AppData\\Local\\Temp\\ipykernel_552\\2699740051.py:5: FutureWarning: Passing literal html to 'read_html' is deprecated and will be removed in a future version. To read from a literal string, wrap it in a 'StringIO' object.\n",
      "  return pd.read_html(str(table))\n"
     ]
    },
    {
     "name": "stdout",
     "output_type": "stream",
     "text": [
      "Table saved to: Tablas_paises\\PANAMA_1_4.xlsx\n"
     ]
    },
    {
     "name": "stderr",
     "output_type": "stream",
     "text": [
      "C:\\Users\\computadora\\AppData\\Local\\Temp\\ipykernel_552\\2699740051.py:5: FutureWarning: Passing literal html to 'read_html' is deprecated and will be removed in a future version. To read from a literal string, wrap it in a 'StringIO' object.\n",
      "  return pd.read_html(str(table))\n"
     ]
    },
    {
     "name": "stdout",
     "output_type": "stream",
     "text": [
      "Table saved to: Tablas_paises\\PANAMA_1_5.xlsx\n"
     ]
    },
    {
     "name": "stderr",
     "output_type": "stream",
     "text": [
      "C:\\Users\\computadora\\AppData\\Local\\Temp\\ipykernel_552\\2699740051.py:5: FutureWarning: Passing literal html to 'read_html' is deprecated and will be removed in a future version. To read from a literal string, wrap it in a 'StringIO' object.\n",
      "  return pd.read_html(str(table))\n"
     ]
    },
    {
     "name": "stdout",
     "output_type": "stream",
     "text": [
      "Table saved to: Tablas_paises\\PANAMA_1_6.xlsx\n"
     ]
    },
    {
     "name": "stderr",
     "output_type": "stream",
     "text": [
      "C:\\Users\\computadora\\AppData\\Local\\Temp\\ipykernel_552\\2699740051.py:5: FutureWarning: Passing literal html to 'read_html' is deprecated and will be removed in a future version. To read from a literal string, wrap it in a 'StringIO' object.\n",
      "  return pd.read_html(str(table))\n"
     ]
    },
    {
     "name": "stdout",
     "output_type": "stream",
     "text": [
      "Table saved to: Tablas_paises\\PANAMA_1_7.xlsx\n"
     ]
    },
    {
     "name": "stderr",
     "output_type": "stream",
     "text": [
      "C:\\Users\\computadora\\AppData\\Local\\Temp\\ipykernel_552\\2699740051.py:5: FutureWarning: Passing literal html to 'read_html' is deprecated and will be removed in a future version. To read from a literal string, wrap it in a 'StringIO' object.\n",
      "  return pd.read_html(str(table))\n"
     ]
    },
    {
     "name": "stdout",
     "output_type": "stream",
     "text": [
      "Table saved to: Tablas_paises\\PANAMA_1_8.xlsx\n"
     ]
    },
    {
     "name": "stderr",
     "output_type": "stream",
     "text": [
      "C:\\Users\\computadora\\AppData\\Local\\Temp\\ipykernel_552\\2699740051.py:5: FutureWarning: Passing literal html to 'read_html' is deprecated and will be removed in a future version. To read from a literal string, wrap it in a 'StringIO' object.\n",
      "  return pd.read_html(str(table))\n"
     ]
    },
    {
     "name": "stdout",
     "output_type": "stream",
     "text": [
      "Table saved to: Tablas_paises\\PANAMA_1_9.xlsx\n"
     ]
    },
    {
     "name": "stderr",
     "output_type": "stream",
     "text": [
      "C:\\Users\\computadora\\AppData\\Local\\Temp\\ipykernel_552\\2699740051.py:5: FutureWarning: Passing literal html to 'read_html' is deprecated and will be removed in a future version. To read from a literal string, wrap it in a 'StringIO' object.\n",
      "  return pd.read_html(str(table))\n"
     ]
    },
    {
     "name": "stdout",
     "output_type": "stream",
     "text": [
      "Table saved to: Tablas_paises\\PANAMA_1_10.xlsx\n",
      "Error processing URL nan: Invalid URL 'nan': No scheme supplied. Perhaps you meant https://nan?\n",
      "Error processing URL nan: Invalid URL 'nan': No scheme supplied. Perhaps you meant https://nan?\n"
     ]
    },
    {
     "name": "stderr",
     "output_type": "stream",
     "text": [
      "C:\\Users\\computadora\\AppData\\Local\\Temp\\ipykernel_552\\2699740051.py:5: FutureWarning: Passing literal html to 'read_html' is deprecated and will be removed in a future version. To read from a literal string, wrap it in a 'StringIO' object.\n",
      "  return pd.read_html(str(table))\n"
     ]
    },
    {
     "name": "stdout",
     "output_type": "stream",
     "text": [
      "Table saved to: Tablas_paises\\MEXICO_1.xlsx\n"
     ]
    },
    {
     "name": "stderr",
     "output_type": "stream",
     "text": [
      "C:\\Users\\computadora\\AppData\\Local\\Temp\\ipykernel_552\\2699740051.py:5: FutureWarning: Passing literal html to 'read_html' is deprecated and will be removed in a future version. To read from a literal string, wrap it in a 'StringIO' object.\n",
      "  return pd.read_html(str(table))\n"
     ]
    },
    {
     "name": "stdout",
     "output_type": "stream",
     "text": [
      "Table saved to: Tablas_paises\\MEXICO_1_1.xlsx\n"
     ]
    },
    {
     "name": "stderr",
     "output_type": "stream",
     "text": [
      "C:\\Users\\computadora\\AppData\\Local\\Temp\\ipykernel_552\\2699740051.py:5: FutureWarning: Passing literal html to 'read_html' is deprecated and will be removed in a future version. To read from a literal string, wrap it in a 'StringIO' object.\n",
      "  return pd.read_html(str(table))\n"
     ]
    },
    {
     "name": "stdout",
     "output_type": "stream",
     "text": [
      "Table saved to: Tablas_paises\\MEXICO_1_2.xlsx\n"
     ]
    },
    {
     "name": "stderr",
     "output_type": "stream",
     "text": [
      "C:\\Users\\computadora\\AppData\\Local\\Temp\\ipykernel_552\\2699740051.py:5: FutureWarning: Passing literal html to 'read_html' is deprecated and will be removed in a future version. To read from a literal string, wrap it in a 'StringIO' object.\n",
      "  return pd.read_html(str(table))\n"
     ]
    },
    {
     "name": "stdout",
     "output_type": "stream",
     "text": [
      "Table saved to: Tablas_paises\\MEXICO_1_3.xlsx\n"
     ]
    },
    {
     "name": "stderr",
     "output_type": "stream",
     "text": [
      "C:\\Users\\computadora\\AppData\\Local\\Temp\\ipykernel_552\\2699740051.py:5: FutureWarning: Passing literal html to 'read_html' is deprecated and will be removed in a future version. To read from a literal string, wrap it in a 'StringIO' object.\n",
      "  return pd.read_html(str(table))\n"
     ]
    },
    {
     "name": "stdout",
     "output_type": "stream",
     "text": [
      "Table saved to: Tablas_paises\\MEXICO_1_4.xlsx\n"
     ]
    },
    {
     "name": "stderr",
     "output_type": "stream",
     "text": [
      "C:\\Users\\computadora\\AppData\\Local\\Temp\\ipykernel_552\\2699740051.py:5: FutureWarning: Passing literal html to 'read_html' is deprecated and will be removed in a future version. To read from a literal string, wrap it in a 'StringIO' object.\n",
      "  return pd.read_html(str(table))\n"
     ]
    },
    {
     "name": "stdout",
     "output_type": "stream",
     "text": [
      "Table saved to: Tablas_paises\\MEXICO_1_5.xlsx\n"
     ]
    },
    {
     "name": "stderr",
     "output_type": "stream",
     "text": [
      "C:\\Users\\computadora\\AppData\\Local\\Temp\\ipykernel_552\\2699740051.py:5: FutureWarning: Passing literal html to 'read_html' is deprecated and will be removed in a future version. To read from a literal string, wrap it in a 'StringIO' object.\n",
      "  return pd.read_html(str(table))\n"
     ]
    },
    {
     "name": "stdout",
     "output_type": "stream",
     "text": [
      "Table saved to: Tablas_paises\\MEXICO_1_6.xlsx\n"
     ]
    },
    {
     "name": "stderr",
     "output_type": "stream",
     "text": [
      "C:\\Users\\computadora\\AppData\\Local\\Temp\\ipykernel_552\\2699740051.py:5: FutureWarning: Passing literal html to 'read_html' is deprecated and will be removed in a future version. To read from a literal string, wrap it in a 'StringIO' object.\n",
      "  return pd.read_html(str(table))\n"
     ]
    },
    {
     "name": "stdout",
     "output_type": "stream",
     "text": [
      "Table saved to: Tablas_paises\\MEXICO_1_7.xlsx\n"
     ]
    },
    {
     "name": "stderr",
     "output_type": "stream",
     "text": [
      "C:\\Users\\computadora\\AppData\\Local\\Temp\\ipykernel_552\\2699740051.py:5: FutureWarning: Passing literal html to 'read_html' is deprecated and will be removed in a future version. To read from a literal string, wrap it in a 'StringIO' object.\n",
      "  return pd.read_html(str(table))\n"
     ]
    },
    {
     "name": "stdout",
     "output_type": "stream",
     "text": [
      "Table saved to: Tablas_paises\\MEXICO_1_8.xlsx\n"
     ]
    },
    {
     "name": "stderr",
     "output_type": "stream",
     "text": [
      "C:\\Users\\computadora\\AppData\\Local\\Temp\\ipykernel_552\\2699740051.py:5: FutureWarning: Passing literal html to 'read_html' is deprecated and will be removed in a future version. To read from a literal string, wrap it in a 'StringIO' object.\n",
      "  return pd.read_html(str(table))\n"
     ]
    },
    {
     "name": "stdout",
     "output_type": "stream",
     "text": [
      "Table saved to: Tablas_paises\\MEXICO_1_9.xlsx\n",
      "Table saved to: Tablas_paises\\MEXICO_1_10.xlsx\n",
      "Error processing URL nan: Invalid URL 'nan': No scheme supplied. Perhaps you meant https://nan?\n",
      "Error processing URL nan: Invalid URL 'nan': No scheme supplied. Perhaps you meant https://nan?\n"
     ]
    },
    {
     "name": "stderr",
     "output_type": "stream",
     "text": [
      "C:\\Users\\computadora\\AppData\\Local\\Temp\\ipykernel_552\\2699740051.py:5: FutureWarning: Passing literal html to 'read_html' is deprecated and will be removed in a future version. To read from a literal string, wrap it in a 'StringIO' object.\n",
      "  return pd.read_html(str(table))\n"
     ]
    }
   ],
   "source": [
    "for column in urls_df.columns:\n",
    "    for url in urls_df[column]:\n",
    "        try:\n",
    "            tables = extract_table_from_url(url)\n",
    "            save_tables_to_excel(tables, column)\n",
    "        except Exception as e:\n",
    "            print(f'Error processing URL {url}: {e}')"
   ]
  },
  {
   "cell_type": "code",
   "execution_count": 125,
   "metadata": {},
   "outputs": [
    {
     "data": {
      "text/plain": [
       "'uruguay'"
      ]
     },
     "execution_count": 125,
     "metadata": {},
     "output_type": "execute_result"
    }
   ],
   "source": [
    "PAIS = 'URUGUAY'\n",
    "PAIS = PAIS.lower()\n",
    "PAIS"
   ]
  },
  {
   "cell_type": "code",
   "execution_count": 126,
   "metadata": {},
   "outputs": [],
   "source": [
    "\n",
    "\n",
    "URL_IDH = (f'https://datosmacro.expansion.com/idh/{PAIS}')\n",
    "\n",
    "URL_PBI = (f'https://datosmacro.expansion.com/pib/{PAIS}')"
   ]
  },
  {
   "cell_type": "code",
   "execution_count": 127,
   "metadata": {},
   "outputs": [
    {
     "data": {
      "text/plain": [
       "2"
      ]
     },
     "execution_count": 127,
     "metadata": {},
     "output_type": "execute_result"
    }
   ],
   "source": [
    "data = pd.read_html(URL_PBI)\n",
    "len(data)"
   ]
  },
  {
   "cell_type": "code",
   "execution_count": 128,
   "metadata": {},
   "outputs": [
    {
     "data": {
      "text/plain": [
       "1"
      ]
     },
     "execution_count": 128,
     "metadata": {},
     "output_type": "execute_result"
    }
   ],
   "source": [
    "data2 = pd.read_html(URL_IDH)\n",
    "len(data2)"
   ]
  },
  {
   "cell_type": "code",
   "execution_count": 129,
   "metadata": {},
   "outputs": [
    {
     "data": {
      "text/html": [
       "<div>\n",
       "<style scoped>\n",
       "    .dataframe tbody tr th:only-of-type {\n",
       "        vertical-align: middle;\n",
       "    }\n",
       "\n",
       "    .dataframe tbody tr th {\n",
       "        vertical-align: top;\n",
       "    }\n",
       "\n",
       "    .dataframe thead th {\n",
       "        text-align: right;\n",
       "    }\n",
       "</style>\n",
       "<table border=\"1\" class=\"dataframe\">\n",
       "  <thead>\n",
       "    <tr style=\"text-align: right;\">\n",
       "      <th></th>\n",
       "      <th>Fecha</th>\n",
       "      <th>PIB Per Capita</th>\n",
       "      <th>PIB Per Capita.1</th>\n",
       "      <th>Var. anual PIB Per Capita</th>\n",
       "      <th>Var. anual PIB Per Capita.1</th>\n",
       "    </tr>\n",
       "  </thead>\n",
       "  <tbody>\n",
       "    <tr>\n",
       "      <th>0</th>\n",
       "      <td>2022</td>\n",
       "      <td>19.725 €</td>\n",
       "      <td>20.774 $</td>\n",
       "      <td>34,8%</td>\n",
       "      <td>20,0%</td>\n",
       "    </tr>\n",
       "    <tr>\n",
       "      <th>1</th>\n",
       "      <td>2021</td>\n",
       "      <td>14.629 €</td>\n",
       "      <td>17.314 $</td>\n",
       "      <td>6,9%</td>\n",
       "      <td>10,9%</td>\n",
       "    </tr>\n",
       "    <tr>\n",
       "      <th>2</th>\n",
       "      <td>2020</td>\n",
       "      <td>13.685 €</td>\n",
       "      <td>15.619 $</td>\n",
       "      <td>-14,2%</td>\n",
       "      <td>-12,6%</td>\n",
       "    </tr>\n",
       "    <tr>\n",
       "      <th>3</th>\n",
       "      <td>2019</td>\n",
       "      <td>15.954 €</td>\n",
       "      <td>17.862 $</td>\n",
       "      <td>0,1%</td>\n",
       "      <td>-5,2%</td>\n",
       "    </tr>\n",
       "    <tr>\n",
       "      <th>4</th>\n",
       "      <td>2018</td>\n",
       "      <td>15.940 €</td>\n",
       "      <td>18.833 $</td>\n",
       "      <td>-4,2%</td>\n",
       "      <td>0,2%</td>\n",
       "    </tr>\n",
       "    <tr>\n",
       "      <th>...</th>\n",
       "      <td>...</td>\n",
       "      <td>...</td>\n",
       "      <td>...</td>\n",
       "      <td>...</td>\n",
       "      <td>...</td>\n",
       "    </tr>\n",
       "    <tr>\n",
       "      <th>58</th>\n",
       "      <td>1964</td>\n",
       "      <td>NaN</td>\n",
       "      <td>745 $</td>\n",
       "      <td>NaN</td>\n",
       "      <td>26,9%</td>\n",
       "    </tr>\n",
       "    <tr>\n",
       "      <th>59</th>\n",
       "      <td>1963</td>\n",
       "      <td>NaN</td>\n",
       "      <td>587 $</td>\n",
       "      <td>NaN</td>\n",
       "      <td>-11,0%</td>\n",
       "    </tr>\n",
       "    <tr>\n",
       "      <th>60</th>\n",
       "      <td>1962</td>\n",
       "      <td>NaN</td>\n",
       "      <td>660 $</td>\n",
       "      <td>NaN</td>\n",
       "      <td>9,2%</td>\n",
       "    </tr>\n",
       "    <tr>\n",
       "      <th>61</th>\n",
       "      <td>1961</td>\n",
       "      <td>NaN</td>\n",
       "      <td>604 $</td>\n",
       "      <td>NaN</td>\n",
       "      <td>23,0%</td>\n",
       "    </tr>\n",
       "    <tr>\n",
       "      <th>62</th>\n",
       "      <td>1960</td>\n",
       "      <td>NaN</td>\n",
       "      <td>491 $</td>\n",
       "      <td>NaN</td>\n",
       "      <td>NaN</td>\n",
       "    </tr>\n",
       "  </tbody>\n",
       "</table>\n",
       "<p>63 rows × 5 columns</p>\n",
       "</div>"
      ],
      "text/plain": [
       "    Fecha PIB Per Capita PIB Per Capita.1 Var. anual PIB Per Capita  \\\n",
       "0    2022       19.725 €         20.774 $                     34,8%   \n",
       "1    2021       14.629 €         17.314 $                      6,9%   \n",
       "2    2020       13.685 €         15.619 $                    -14,2%   \n",
       "3    2019       15.954 €         17.862 $                      0,1%   \n",
       "4    2018       15.940 €         18.833 $                     -4,2%   \n",
       "..    ...            ...              ...                       ...   \n",
       "58   1964            NaN            745 $                       NaN   \n",
       "59   1963            NaN            587 $                       NaN   \n",
       "60   1962            NaN            660 $                       NaN   \n",
       "61   1961            NaN            604 $                       NaN   \n",
       "62   1960            NaN            491 $                       NaN   \n",
       "\n",
       "   Var. anual PIB Per Capita.1  \n",
       "0                        20,0%  \n",
       "1                        10,9%  \n",
       "2                       -12,6%  \n",
       "3                        -5,2%  \n",
       "4                         0,2%  \n",
       "..                         ...  \n",
       "58                       26,9%  \n",
       "59                      -11,0%  \n",
       "60                        9,2%  \n",
       "61                       23,0%  \n",
       "62                         NaN  \n",
       "\n",
       "[63 rows x 5 columns]"
      ]
     },
     "execution_count": 129,
     "metadata": {},
     "output_type": "execute_result"
    }
   ],
   "source": [
    "df1 = data[1]\n",
    "df1"
   ]
  },
  {
   "cell_type": "code",
   "execution_count": 130,
   "metadata": {},
   "outputs": [
    {
     "data": {
      "text/html": [
       "<div>\n",
       "<style scoped>\n",
       "    .dataframe tbody tr th:only-of-type {\n",
       "        vertical-align: middle;\n",
       "    }\n",
       "\n",
       "    .dataframe tbody tr th {\n",
       "        vertical-align: top;\n",
       "    }\n",
       "\n",
       "    .dataframe thead th {\n",
       "        text-align: right;\n",
       "    }\n",
       "</style>\n",
       "<table border=\"1\" class=\"dataframe\">\n",
       "  <thead>\n",
       "    <tr style=\"text-align: right;\">\n",
       "      <th></th>\n",
       "      <th>Fecha</th>\n",
       "      <th>IDH</th>\n",
       "      <th>Ranking IDH</th>\n",
       "    </tr>\n",
       "  </thead>\n",
       "  <tbody>\n",
       "    <tr>\n",
       "      <th>0</th>\n",
       "      <td>2021</td>\n",
       "      <td>809</td>\n",
       "      <td>58º</td>\n",
       "    </tr>\n",
       "    <tr>\n",
       "      <th>1</th>\n",
       "      <td>2020</td>\n",
       "      <td>821</td>\n",
       "      <td>55º</td>\n",
       "    </tr>\n",
       "    <tr>\n",
       "      <th>2</th>\n",
       "      <td>2019</td>\n",
       "      <td>821</td>\n",
       "      <td>55º</td>\n",
       "    </tr>\n",
       "    <tr>\n",
       "      <th>3</th>\n",
       "      <td>2018</td>\n",
       "      <td>819</td>\n",
       "      <td>56º</td>\n",
       "    </tr>\n",
       "    <tr>\n",
       "      <th>4</th>\n",
       "      <td>2017</td>\n",
       "      <td>819</td>\n",
       "      <td>55º</td>\n",
       "    </tr>\n",
       "    <tr>\n",
       "      <th>5</th>\n",
       "      <td>2016</td>\n",
       "      <td>815</td>\n",
       "      <td>55º</td>\n",
       "    </tr>\n",
       "    <tr>\n",
       "      <th>6</th>\n",
       "      <td>2015</td>\n",
       "      <td>811</td>\n",
       "      <td>57º</td>\n",
       "    </tr>\n",
       "    <tr>\n",
       "      <th>7</th>\n",
       "      <td>2014</td>\n",
       "      <td>808</td>\n",
       "      <td>57º</td>\n",
       "    </tr>\n",
       "    <tr>\n",
       "      <th>8</th>\n",
       "      <td>2013</td>\n",
       "      <td>805</td>\n",
       "      <td>56º</td>\n",
       "    </tr>\n",
       "    <tr>\n",
       "      <th>9</th>\n",
       "      <td>2012</td>\n",
       "      <td>798</td>\n",
       "      <td>56º</td>\n",
       "    </tr>\n",
       "    <tr>\n",
       "      <th>10</th>\n",
       "      <td>2011</td>\n",
       "      <td>794</td>\n",
       "      <td>54º</td>\n",
       "    </tr>\n",
       "    <tr>\n",
       "      <th>11</th>\n",
       "      <td>2010</td>\n",
       "      <td>787</td>\n",
       "      <td>59º</td>\n",
       "    </tr>\n",
       "    <tr>\n",
       "      <th>12</th>\n",
       "      <td>2009</td>\n",
       "      <td>780</td>\n",
       "      <td>60º</td>\n",
       "    </tr>\n",
       "    <tr>\n",
       "      <th>13</th>\n",
       "      <td>2008</td>\n",
       "      <td>774</td>\n",
       "      <td>60º</td>\n",
       "    </tr>\n",
       "    <tr>\n",
       "      <th>14</th>\n",
       "      <td>2007</td>\n",
       "      <td>771</td>\n",
       "      <td>61º</td>\n",
       "    </tr>\n",
       "    <tr>\n",
       "      <th>15</th>\n",
       "      <td>2006</td>\n",
       "      <td>768</td>\n",
       "      <td>56º</td>\n",
       "    </tr>\n",
       "    <tr>\n",
       "      <th>16</th>\n",
       "      <td>2005</td>\n",
       "      <td>768</td>\n",
       "      <td>51º</td>\n",
       "    </tr>\n",
       "    <tr>\n",
       "      <th>17</th>\n",
       "      <td>2004</td>\n",
       "      <td>770</td>\n",
       "      <td>49º</td>\n",
       "    </tr>\n",
       "    <tr>\n",
       "      <th>18</th>\n",
       "      <td>2003</td>\n",
       "      <td>770</td>\n",
       "      <td>49º</td>\n",
       "    </tr>\n",
       "    <tr>\n",
       "      <th>19</th>\n",
       "      <td>2002</td>\n",
       "      <td>764</td>\n",
       "      <td>49º</td>\n",
       "    </tr>\n",
       "    <tr>\n",
       "      <th>20</th>\n",
       "      <td>2001</td>\n",
       "      <td>760</td>\n",
       "      <td>49º</td>\n",
       "    </tr>\n",
       "    <tr>\n",
       "      <th>21</th>\n",
       "      <td>2000</td>\n",
       "      <td>753</td>\n",
       "      <td>50º</td>\n",
       "    </tr>\n",
       "    <tr>\n",
       "      <th>22</th>\n",
       "      <td>1999</td>\n",
       "      <td>747</td>\n",
       "      <td>47º</td>\n",
       "    </tr>\n",
       "    <tr>\n",
       "      <th>23</th>\n",
       "      <td>1998</td>\n",
       "      <td>744</td>\n",
       "      <td>45º</td>\n",
       "    </tr>\n",
       "    <tr>\n",
       "      <th>24</th>\n",
       "      <td>1997</td>\n",
       "      <td>735</td>\n",
       "      <td>45º</td>\n",
       "    </tr>\n",
       "    <tr>\n",
       "      <th>25</th>\n",
       "      <td>1996</td>\n",
       "      <td>723</td>\n",
       "      <td>46º</td>\n",
       "    </tr>\n",
       "    <tr>\n",
       "      <th>26</th>\n",
       "      <td>1995</td>\n",
       "      <td>717</td>\n",
       "      <td>45º</td>\n",
       "    </tr>\n",
       "    <tr>\n",
       "      <th>27</th>\n",
       "      <td>1994</td>\n",
       "      <td>716</td>\n",
       "      <td>42º</td>\n",
       "    </tr>\n",
       "    <tr>\n",
       "      <th>28</th>\n",
       "      <td>1993</td>\n",
       "      <td>711</td>\n",
       "      <td>41º</td>\n",
       "    </tr>\n",
       "    <tr>\n",
       "      <th>29</th>\n",
       "      <td>1992</td>\n",
       "      <td>708</td>\n",
       "      <td>45º</td>\n",
       "    </tr>\n",
       "    <tr>\n",
       "      <th>30</th>\n",
       "      <td>1991</td>\n",
       "      <td>705</td>\n",
       "      <td>47º</td>\n",
       "    </tr>\n",
       "    <tr>\n",
       "      <th>31</th>\n",
       "      <td>1990</td>\n",
       "      <td>701</td>\n",
       "      <td>48º</td>\n",
       "    </tr>\n",
       "  </tbody>\n",
       "</table>\n",
       "</div>"
      ],
      "text/plain": [
       "    Fecha  IDH Ranking IDH\n",
       "0    2021  809         58º\n",
       "1    2020  821         55º\n",
       "2    2019  821         55º\n",
       "3    2018  819         56º\n",
       "4    2017  819         55º\n",
       "5    2016  815         55º\n",
       "6    2015  811         57º\n",
       "7    2014  808         57º\n",
       "8    2013  805         56º\n",
       "9    2012  798         56º\n",
       "10   2011  794         54º\n",
       "11   2010  787         59º\n",
       "12   2009  780         60º\n",
       "13   2008  774         60º\n",
       "14   2007  771         61º\n",
       "15   2006  768         56º\n",
       "16   2005  768         51º\n",
       "17   2004  770         49º\n",
       "18   2003  770         49º\n",
       "19   2002  764         49º\n",
       "20   2001  760         49º\n",
       "21   2000  753         50º\n",
       "22   1999  747         47º\n",
       "23   1998  744         45º\n",
       "24   1997  735         45º\n",
       "25   1996  723         46º\n",
       "26   1995  717         45º\n",
       "27   1994  716         42º\n",
       "28   1993  711         41º\n",
       "29   1992  708         45º\n",
       "30   1991  705         47º\n",
       "31   1990  701         48º"
      ]
     },
     "execution_count": 130,
     "metadata": {},
     "output_type": "execute_result"
    }
   ],
   "source": [
    "df2 = data2[0]\n",
    "df2"
   ]
  },
  {
   "cell_type": "code",
   "execution_count": 124,
   "metadata": {},
   "outputs": [],
   "source": [
    "df1.to_excel(f'tabla_{PAIS}_pbipercapital.xlsx',index=False)\n",
    "df2.to_excel(f'tabla_{PAIS}_idh.xlsx',index=False)\n"
   ]
  },
  {
   "cell_type": "code",
   "execution_count": 102,
   "metadata": {},
   "outputs": [
    {
     "data": {
      "text/html": [
       "<div>\n",
       "<style scoped>\n",
       "    .dataframe tbody tr th:only-of-type {\n",
       "        vertical-align: middle;\n",
       "    }\n",
       "\n",
       "    .dataframe tbody tr th {\n",
       "        vertical-align: top;\n",
       "    }\n",
       "\n",
       "    .dataframe thead th {\n",
       "        text-align: right;\n",
       "    }\n",
       "</style>\n",
       "<table border=\"1\" class=\"dataframe\">\n",
       "  <thead>\n",
       "    <tr style=\"text-align: right;\">\n",
       "      <th></th>\n",
       "      <th>Fecha</th>\n",
       "      <th>PIB anual</th>\n",
       "      <th>PIB anual.1</th>\n",
       "      <th>Var. PIB (%)</th>\n",
       "    </tr>\n",
       "  </thead>\n",
       "  <tbody>\n",
       "    <tr>\n",
       "      <th>0</th>\n",
       "      <td>2022</td>\n",
       "      <td>1.341.808 M€</td>\n",
       "      <td>1.414.101 M$</td>\n",
       "      <td>3,9%</td>\n",
       "    </tr>\n",
       "    <tr>\n",
       "      <th>1</th>\n",
       "      <td>2021</td>\n",
       "      <td>1.075.463 M€</td>\n",
       "      <td>1.272.839 M$</td>\n",
       "      <td>4,7%</td>\n",
       "    </tr>\n",
       "    <tr>\n",
       "      <th>2</th>\n",
       "      <td>2020</td>\n",
       "      <td>955.518 M€</td>\n",
       "      <td>1.090.515 M$</td>\n",
       "      <td>-8,0%</td>\n",
       "    </tr>\n",
       "    <tr>\n",
       "      <th>3</th>\n",
       "      <td>2019</td>\n",
       "      <td>1.133.451 M€</td>\n",
       "      <td>1.269.010 M$</td>\n",
       "      <td>-0,2%</td>\n",
       "    </tr>\n",
       "    <tr>\n",
       "      <th>4</th>\n",
       "      <td>2018</td>\n",
       "      <td>1.034.631 M€</td>\n",
       "      <td>1.222.406 M$</td>\n",
       "      <td>2,2%</td>\n",
       "    </tr>\n",
       "    <tr>\n",
       "      <th>...</th>\n",
       "      <td>...</td>\n",
       "      <td>...</td>\n",
       "      <td>...</td>\n",
       "      <td>...</td>\n",
       "    </tr>\n",
       "    <tr>\n",
       "      <th>58</th>\n",
       "      <td>1964</td>\n",
       "      <td>NaN</td>\n",
       "      <td>20.080 M$</td>\n",
       "      <td>10,6%</td>\n",
       "    </tr>\n",
       "    <tr>\n",
       "      <th>59</th>\n",
       "      <td>1963</td>\n",
       "      <td>NaN</td>\n",
       "      <td>16.960 M$</td>\n",
       "      <td>7,5%</td>\n",
       "    </tr>\n",
       "    <tr>\n",
       "      <th>60</th>\n",
       "      <td>1962</td>\n",
       "      <td>NaN</td>\n",
       "      <td>15.200 M$</td>\n",
       "      <td>4,6%</td>\n",
       "    </tr>\n",
       "    <tr>\n",
       "      <th>61</th>\n",
       "      <td>1961</td>\n",
       "      <td>NaN</td>\n",
       "      <td>14.160 M$</td>\n",
       "      <td>4,0%</td>\n",
       "    </tr>\n",
       "    <tr>\n",
       "      <th>62</th>\n",
       "      <td>1960</td>\n",
       "      <td>NaN</td>\n",
       "      <td>13.040 M$</td>\n",
       "      <td>NaN</td>\n",
       "    </tr>\n",
       "  </tbody>\n",
       "</table>\n",
       "<p>63 rows × 4 columns</p>\n",
       "</div>"
      ],
      "text/plain": [
       "    Fecha     PIB anual   PIB anual.1 Var. PIB (%)\n",
       "0    2022  1.341.808 M€  1.414.101 M$         3,9%\n",
       "1    2021  1.075.463 M€  1.272.839 M$         4,7%\n",
       "2    2020    955.518 M€  1.090.515 M$        -8,0%\n",
       "3    2019  1.133.451 M€  1.269.010 M$        -0,2%\n",
       "4    2018  1.034.631 M€  1.222.406 M$         2,2%\n",
       "..    ...           ...           ...          ...\n",
       "58   1964           NaN     20.080 M$        10,6%\n",
       "59   1963           NaN     16.960 M$         7,5%\n",
       "60   1962           NaN     15.200 M$         4,6%\n",
       "61   1961           NaN     14.160 M$         4,0%\n",
       "62   1960           NaN     13.040 M$          NaN\n",
       "\n",
       "[63 rows x 4 columns]"
      ]
     },
     "execution_count": 102,
     "metadata": {},
     "output_type": "execute_result"
    }
   ],
   "source": [
    "df3 = data[2]\n",
    "df3"
   ]
  },
  {
   "cell_type": "code",
   "execution_count": 103,
   "metadata": {},
   "outputs": [],
   "source": [
    "df3 = data[2]\n",
    "df3.to_excel(f'tabla_{PAIS}_pbi.xlsx',index=False)"
   ]
  }
 ],
 "metadata": {
  "kernelspec": {
   "display_name": "Python 3",
   "language": "python",
   "name": "python3"
  },
  "language_info": {
   "codemirror_mode": {
    "name": "ipython",
    "version": 3
   },
   "file_extension": ".py",
   "mimetype": "text/x-python",
   "name": "python",
   "nbconvert_exporter": "python",
   "pygments_lexer": "ipython3",
   "version": "3.11.4"
  }
 },
 "nbformat": 4,
 "nbformat_minor": 2
}
